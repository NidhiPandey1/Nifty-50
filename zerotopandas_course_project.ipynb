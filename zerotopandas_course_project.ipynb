{
  "cells": [
    {
      "cell_type": "markdown",
      "metadata": {
        "id": "view-in-github",
        "colab_type": "text"
      },
      "source": [
        "<a href=\"https://colab.research.google.com/github/NidhiPandey1/Assignments/blob/main/zerotopandas_course_project.ipynb\" target=\"_parent\"><img src=\"https://colab.research.google.com/assets/colab-badge.svg\" alt=\"Open In Colab\"/></a>"
      ]
    },
    {
      "cell_type": "markdown",
      "metadata": {
        "id": "TIlTtE08St0i"
      },
      "source": [
        "# NIFTY-50 STOCK MARKET DATA\n",
        "\n",
        "NIFTY-50 dataset is collection of some companies data about their shares and how much it get increased,decreased ,its turnover and other details of it which makes their whole value in market. I will be using the tools learnt in the course [Data Analysis with Python: Zero to Pandas](zerotopandas.com), like\n",
        "- Opendataset for finding data\n",
        "- Pandas\n",
        "- Numpy\n",
        "- Seaborn and many other for making data analysis bit easy to understand."
      ]
    },
    {
      "cell_type": "markdown",
      "metadata": {
        "id": "iQ83NjVeSt0o"
      },
      "source": [
        "### How to run the code\n",
        "\n",
        "This is an executable [*Jupyter notebook*](https://jupyter.org) hosted on [Jovian.ml](https://www.jovian.ml), a platform for sharing data science projects. You can run and experiment with the code in a couple of ways: *using free online resources* (recommended) or *on your own computer*.\n",
        "\n",
        "#### Option 1: Running using free online resources (1-click, recommended)\n",
        "\n",
        "The easiest way to start executing this notebook is to click the \"Run\" button at the top of this page, and select \"Run on Binder\". This will run the notebook on [mybinder.org](https://mybinder.org), a free online service for running Jupyter notebooks. You can also select \"Run on Colab\" or \"Run on Kaggle\".\n",
        "\n",
        "\n",
        "#### Option 2: Running on your computer locally\n",
        "\n",
        "1. Install Conda by [following these instructions](https://conda.io/projects/conda/en/latest/user-guide/install/index.html). Add Conda binaries to your system `PATH`, so you can use the `conda` command on your terminal.\n",
        "\n",
        "2. Create a Conda environment and install the required libraries by running these commands on the terminal:\n",
        "\n",
        "```\n",
        "conda create -n zerotopandas -y python=3.8\n",
        "conda activate zerotopandas\n",
        "pip install jovian jupyter numpy pandas matplotlib seaborn opendatasets --upgrade\n",
        "```\n",
        "\n",
        "3. Press the \"Clone\" button above to copy the command for downloading the notebook, and run it on the terminal. This will create a new directory and download the notebook. The command will look something like this:\n",
        "\n",
        "```\n",
        "jovian clone notebook-owner/notebook-id\n",
        "```\n",
        "\n",
        "\n",
        "\n",
        "4. Enter the newly created directory using `cd directory-name` and start the Jupyter notebook.\n",
        "\n",
        "```\n",
        "jupyter notebook\n",
        "```\n",
        "\n",
        "You can now access Jupyter's web interface by clicking the link that shows up on the terminal or by visiting http://localhost:8888 on your browser. Click on the notebook file (it has a `.ipynb` extension) to open it.\n"
      ]
    },
    {
      "cell_type": "markdown",
      "metadata": {
        "id": "EHgpdnY2St0p"
      },
      "source": [
        "## Downloading the Dataset\n",
        "\n",
        "#### Downloaded the dataset from Kaggle https://www.kaggle.com/rohanrao/nifty50-stock-market-data which have csv files for top companies like INFOSYS,AXIS BANK,ASIAN PAINTS ,HDFC BANK ,etc. I had selected the two companies ASIANPAINTS AND AXIS BANK for the analysis."
      ]
    },
    {
      "cell_type": "code",
      "execution_count": null,
      "metadata": {
        "id": "IVt_6-nNSt0q"
      },
      "outputs": [],
      "source": [
        "!pip install jovian opendatasets --upgrade --quiet"
      ]
    },
    {
      "cell_type": "markdown",
      "metadata": {
        "id": "JvzHTWCsSt0s"
      },
      "source": [
        "Let's begin by downloading the data, and listing the files within the dataset."
      ]
    },
    {
      "cell_type": "code",
      "execution_count": null,
      "metadata": {
        "id": "Ou8ri8uWSt0s"
      },
      "outputs": [],
      "source": [
        "# Change this\n",
        "dataset_url = 'https://www.kaggle.com/rohanrao/nifty50-stock-market-data'"
      ]
    },
    {
      "cell_type": "code",
      "execution_count": null,
      "metadata": {
        "id": "3Sqi9PWxSt0t",
        "outputId": "27284d41-6834-434c-aa4e-f0b9c249865a"
      },
      "outputs": [
        {
          "name": "stdout",
          "output_type": "stream",
          "text": [
            "Please provide your Kaggle credentials to download this dataset. Learn more: http://bit.ly/kaggle-creds\n",
            "Your Kaggle username: nidhipandey03\n",
            "Your Kaggle Key: ········\n"
          ]
        },
        {
          "name": "stderr",
          "output_type": "stream",
          "text": [
            "100%|██████████| 17.9M/17.9M [00:00<00:00, 162MB/s]"
          ]
        },
        {
          "name": "stdout",
          "output_type": "stream",
          "text": [
            "Downloading nifty50-stock-market-data.zip to ./nifty50-stock-market-data\n",
            "\n"
          ]
        },
        {
          "name": "stderr",
          "output_type": "stream",
          "text": [
            "\n"
          ]
        }
      ],
      "source": [
        "import opendatasets as od\n",
        "od.download(dataset_url)"
      ]
    },
    {
      "cell_type": "markdown",
      "metadata": {
        "id": "nKprxevnSt0u"
      },
      "source": [
        "The dataset has been downloaded and extracted."
      ]
    },
    {
      "cell_type": "code",
      "execution_count": null,
      "metadata": {
        "id": "F-JGYJqlSt0u"
      },
      "outputs": [],
      "source": [
        "\n",
        "data_dir = './nifty50-stock-market-data'"
      ]
    },
    {
      "cell_type": "code",
      "execution_count": null,
      "metadata": {
        "id": "qZ2nqBwiSt0v",
        "outputId": "bd0922e1-b6f1-4961-fa81-955ff060de8b"
      },
      "outputs": [
        {
          "data": {
            "text/plain": [
              "['ZEEL.csv',\n",
              " 'INFRATEL.csv',\n",
              " 'UPL.csv',\n",
              " 'TCS.csv',\n",
              " 'COALINDIA.csv',\n",
              " 'SUNPHARMA.csv',\n",
              " 'INFY.csv',\n",
              " 'CIPLA.csv',\n",
              " 'BPCL.csv',\n",
              " 'ULTRACEMCO.csv',\n",
              " 'BHARTIARTL.csv',\n",
              " 'ONGC.csv',\n",
              " 'HINDUNILVR.csv',\n",
              " 'BAJAJ-AUTO.csv',\n",
              " 'HEROMOTOCO.csv',\n",
              " 'DRREDDY.csv',\n",
              " 'BAJFINANCE.csv',\n",
              " 'HDFCBANK.csv',\n",
              " 'GRASIM.csv',\n",
              " 'HINDALCO.csv',\n",
              " 'HDFC.csv',\n",
              " 'ICICIBANK.csv',\n",
              " 'NESTLEIND.csv',\n",
              " 'MM.csv',\n",
              " 'KOTAKBANK.csv',\n",
              " 'BRITANNIA.csv',\n",
              " 'TATASTEEL.csv',\n",
              " 'ITC.csv',\n",
              " 'HCLTECH.csv',\n",
              " 'NTPC.csv',\n",
              " 'LT.csv',\n",
              " 'JSWSTEEL.csv',\n",
              " 'AXISBANK.csv',\n",
              " 'MARUTI.csv',\n",
              " 'stock_metadata.csv',\n",
              " 'INDUSINDBK.csv',\n",
              " 'SBIN.csv',\n",
              " 'TATAMOTORS.csv',\n",
              " 'TECHM.csv',\n",
              " 'WIPRO.csv',\n",
              " 'BAJAJFINSV.csv',\n",
              " 'IOC.csv',\n",
              " 'VEDL.csv',\n",
              " 'GAIL.csv',\n",
              " 'ADANIPORTS.csv',\n",
              " 'RELIANCE.csv',\n",
              " 'POWERGRID.csv',\n",
              " 'EICHERMOT.csv',\n",
              " 'SHREECEM.csv',\n",
              " 'NIFTY50_all.csv',\n",
              " 'ASIANPAINT.csv',\n",
              " 'TITAN.csv']"
            ]
          },
          "execution_count": 198,
          "metadata": {},
          "output_type": "execute_result"
        }
      ],
      "source": [
        "import os\n",
        "os.listdir(data_dir)"
      ]
    },
    {
      "cell_type": "markdown",
      "metadata": {
        "id": "hWrmPpkuSt0v"
      },
      "source": [
        "Let us save and upload our work to Jovian before continuing."
      ]
    },
    {
      "cell_type": "code",
      "execution_count": null,
      "metadata": {
        "id": "sP1eHsoSSt0w"
      },
      "outputs": [],
      "source": [
        "project_name= \"nifty50-project\""
      ]
    },
    {
      "cell_type": "code",
      "execution_count": null,
      "metadata": {
        "id": "ck0IZnWFSt0w"
      },
      "outputs": [],
      "source": [
        "!pip install jovian --upgrade -q"
      ]
    },
    {
      "cell_type": "code",
      "execution_count": null,
      "metadata": {
        "id": "dpoYwP1KSt0w"
      },
      "outputs": [],
      "source": [
        "import jovian"
      ]
    },
    {
      "cell_type": "code",
      "execution_count": null,
      "metadata": {
        "id": "zxyMuSNZSt0w",
        "outputId": "720537dd-2407-488f-b3ea-04ca8433964b"
      },
      "outputs": [
        {
          "data": {
            "application/javascript": [
              "window.require && require([\"base/js/namespace\"],function(Jupyter){Jupyter.notebook.save_checkpoint()})"
            ],
            "text/plain": [
              "<IPython.core.display.Javascript object>"
            ]
          },
          "metadata": {},
          "output_type": "display_data"
        },
        {
          "name": "stdout",
          "output_type": "stream",
          "text": [
            "[jovian] Attempting to save notebook..\u001b[0m\n",
            "[jovian] Updating notebook \"nidhiscity/nifty50-project\" on https://jovian.ml/\u001b[0m\n",
            "[jovian] Uploading notebook..\u001b[0m\n",
            "[jovian] Capturing environment..\u001b[0m\n",
            "[jovian] Committed successfully! https://jovian.ml/nidhiscity/nifty50-project\u001b[0m\n"
          ]
        },
        {
          "data": {
            "text/plain": [
              "'https://jovian.ml/nidhiscity/nifty50-project'"
            ]
          },
          "execution_count": 202,
          "metadata": {},
          "output_type": "execute_result"
        }
      ],
      "source": [
        "jovian.commit(project=project_name)"
      ]
    },
    {
      "cell_type": "markdown",
      "metadata": {
        "id": "Fcj_wvbMSt0x"
      },
      "source": [
        "## Data Preparation and Cleaning\n",
        "\n",
        "### We have large number of columns and rows need to check whether the data are appropriate or not for the further analysis of data thus need to do cleaning if required . By handling missing data or invalid if occure ,merging multiple dataset for better understanding.\n",
        "- Firstly reading data\n",
        "- Checking for null values (if occur)\n",
        "- removing it\n",
        "- Loading another csv file\n",
        "- Merging both files\n",
        "- Checking and removing null values\n",
        "- Gathering details about the dataset"
      ]
    },
    {
      "cell_type": "code",
      "execution_count": null,
      "metadata": {
        "id": "_ymK1ZSESt0x"
      },
      "outputs": [],
      "source": [
        "import pandas as pd"
      ]
    },
    {
      "cell_type": "code",
      "execution_count": null,
      "metadata": {
        "id": "AFeaplwqSt0x"
      },
      "outputs": [],
      "source": [
        "data = pd.read_csv(\"nifty50-stock-market-data/ASIANPAINT.csv\")"
      ]
    },
    {
      "cell_type": "code",
      "execution_count": null,
      "metadata": {
        "id": "CrrYTETuSt0x",
        "outputId": "8ad40c4f-4f0d-47ab-9ced-d5c3fb2f3554"
      },
      "outputs": [
        {
          "data": {
            "text/html": [
              "<div>\n",
              "<style scoped>\n",
              "    .dataframe tbody tr th:only-of-type {\n",
              "        vertical-align: middle;\n",
              "    }\n",
              "\n",
              "    .dataframe tbody tr th {\n",
              "        vertical-align: top;\n",
              "    }\n",
              "\n",
              "    .dataframe thead th {\n",
              "        text-align: right;\n",
              "    }\n",
              "</style>\n",
              "<table border=\"1\" class=\"dataframe\">\n",
              "  <thead>\n",
              "    <tr style=\"text-align: right;\">\n",
              "      <th></th>\n",
              "      <th>Date</th>\n",
              "      <th>Symbol</th>\n",
              "      <th>Series</th>\n",
              "      <th>Prev Close</th>\n",
              "      <th>Open</th>\n",
              "      <th>High</th>\n",
              "      <th>Low</th>\n",
              "      <th>Last</th>\n",
              "      <th>Close</th>\n",
              "      <th>VWAP</th>\n",
              "      <th>Volume</th>\n",
              "      <th>Turnover</th>\n",
              "      <th>Trades</th>\n",
              "      <th>Deliverable Volume</th>\n",
              "      <th>%Deliverble</th>\n",
              "    </tr>\n",
              "  </thead>\n",
              "  <tbody>\n",
              "    <tr>\n",
              "      <th>0</th>\n",
              "      <td>2000-01-03</td>\n",
              "      <td>ASIANPAINT</td>\n",
              "      <td>EQ</td>\n",
              "      <td>361.20</td>\n",
              "      <td>370.00</td>\n",
              "      <td>390.00</td>\n",
              "      <td>370.00</td>\n",
              "      <td>385.00</td>\n",
              "      <td>381.65</td>\n",
              "      <td>380.54</td>\n",
              "      <td>3318</td>\n",
              "      <td>1.262617e+11</td>\n",
              "      <td>NaN</td>\n",
              "      <td>NaN</td>\n",
              "      <td>NaN</td>\n",
              "    </tr>\n",
              "    <tr>\n",
              "      <th>1</th>\n",
              "      <td>2000-01-04</td>\n",
              "      <td>ASIANPAINT</td>\n",
              "      <td>EQ</td>\n",
              "      <td>381.65</td>\n",
              "      <td>380.00</td>\n",
              "      <td>392.00</td>\n",
              "      <td>375.00</td>\n",
              "      <td>390.00</td>\n",
              "      <td>385.55</td>\n",
              "      <td>383.50</td>\n",
              "      <td>4818</td>\n",
              "      <td>1.847699e+11</td>\n",
              "      <td>NaN</td>\n",
              "      <td>NaN</td>\n",
              "      <td>NaN</td>\n",
              "    </tr>\n",
              "    <tr>\n",
              "      <th>2</th>\n",
              "      <td>2000-01-05</td>\n",
              "      <td>ASIANPAINT</td>\n",
              "      <td>EQ</td>\n",
              "      <td>385.55</td>\n",
              "      <td>371.50</td>\n",
              "      <td>390.00</td>\n",
              "      <td>371.50</td>\n",
              "      <td>383.00</td>\n",
              "      <td>383.00</td>\n",
              "      <td>379.81</td>\n",
              "      <td>2628</td>\n",
              "      <td>9.981384e+10</td>\n",
              "      <td>NaN</td>\n",
              "      <td>NaN</td>\n",
              "      <td>NaN</td>\n",
              "    </tr>\n",
              "    <tr>\n",
              "      <th>3</th>\n",
              "      <td>2000-01-06</td>\n",
              "      <td>ASIANPAINT</td>\n",
              "      <td>EQ</td>\n",
              "      <td>383.00</td>\n",
              "      <td>384.90</td>\n",
              "      <td>384.90</td>\n",
              "      <td>374.50</td>\n",
              "      <td>375.10</td>\n",
              "      <td>377.50</td>\n",
              "      <td>379.88</td>\n",
              "      <td>3354</td>\n",
              "      <td>1.274114e+11</td>\n",
              "      <td>NaN</td>\n",
              "      <td>NaN</td>\n",
              "      <td>NaN</td>\n",
              "    </tr>\n",
              "    <tr>\n",
              "      <th>4</th>\n",
              "      <td>2000-01-07</td>\n",
              "      <td>ASIANPAINT</td>\n",
              "      <td>EQ</td>\n",
              "      <td>377.50</td>\n",
              "      <td>376.00</td>\n",
              "      <td>390.00</td>\n",
              "      <td>370.00</td>\n",
              "      <td>389.00</td>\n",
              "      <td>385.70</td>\n",
              "      <td>383.38</td>\n",
              "      <td>9589</td>\n",
              "      <td>3.676275e+11</td>\n",
              "      <td>NaN</td>\n",
              "      <td>NaN</td>\n",
              "      <td>NaN</td>\n",
              "    </tr>\n",
              "    <tr>\n",
              "      <th>...</th>\n",
              "      <td>...</td>\n",
              "      <td>...</td>\n",
              "      <td>...</td>\n",
              "      <td>...</td>\n",
              "      <td>...</td>\n",
              "      <td>...</td>\n",
              "      <td>...</td>\n",
              "      <td>...</td>\n",
              "      <td>...</td>\n",
              "      <td>...</td>\n",
              "      <td>...</td>\n",
              "      <td>...</td>\n",
              "      <td>...</td>\n",
              "      <td>...</td>\n",
              "      <td>...</td>\n",
              "    </tr>\n",
              "    <tr>\n",
              "      <th>5158</th>\n",
              "      <td>2020-09-24</td>\n",
              "      <td>ASIANPAINT</td>\n",
              "      <td>EQ</td>\n",
              "      <td>1946.55</td>\n",
              "      <td>1941.55</td>\n",
              "      <td>1945.00</td>\n",
              "      <td>1907.75</td>\n",
              "      <td>1915.00</td>\n",
              "      <td>1918.35</td>\n",
              "      <td>1925.25</td>\n",
              "      <td>1906183</td>\n",
              "      <td>3.669875e+14</td>\n",
              "      <td>95127.0</td>\n",
              "      <td>612886.0</td>\n",
              "      <td>0.3215</td>\n",
              "    </tr>\n",
              "    <tr>\n",
              "      <th>5159</th>\n",
              "      <td>2020-09-25</td>\n",
              "      <td>ASIANPAINT</td>\n",
              "      <td>EQ</td>\n",
              "      <td>1918.35</td>\n",
              "      <td>1925.25</td>\n",
              "      <td>1955.00</td>\n",
              "      <td>1908.00</td>\n",
              "      <td>1924.70</td>\n",
              "      <td>1925.60</td>\n",
              "      <td>1930.25</td>\n",
              "      <td>1939344</td>\n",
              "      <td>3.743411e+14</td>\n",
              "      <td>64362.0</td>\n",
              "      <td>316629.0</td>\n",
              "      <td>0.1633</td>\n",
              "    </tr>\n",
              "    <tr>\n",
              "      <th>5160</th>\n",
              "      <td>2020-09-28</td>\n",
              "      <td>ASIANPAINT</td>\n",
              "      <td>EQ</td>\n",
              "      <td>1925.60</td>\n",
              "      <td>1938.00</td>\n",
              "      <td>1958.00</td>\n",
              "      <td>1930.00</td>\n",
              "      <td>1953.00</td>\n",
              "      <td>1945.60</td>\n",
              "      <td>1944.26</td>\n",
              "      <td>1137313</td>\n",
              "      <td>2.211237e+14</td>\n",
              "      <td>44849.0</td>\n",
              "      <td>189262.0</td>\n",
              "      <td>0.1664</td>\n",
              "    </tr>\n",
              "    <tr>\n",
              "      <th>5161</th>\n",
              "      <td>2020-09-29</td>\n",
              "      <td>ASIANPAINT</td>\n",
              "      <td>EQ</td>\n",
              "      <td>1945.60</td>\n",
              "      <td>1960.00</td>\n",
              "      <td>1989.95</td>\n",
              "      <td>1954.00</td>\n",
              "      <td>1961.95</td>\n",
              "      <td>1959.95</td>\n",
              "      <td>1969.39</td>\n",
              "      <td>1965398</td>\n",
              "      <td>3.870643e+14</td>\n",
              "      <td>71097.0</td>\n",
              "      <td>407761.0</td>\n",
              "      <td>0.2075</td>\n",
              "    </tr>\n",
              "    <tr>\n",
              "      <th>5162</th>\n",
              "      <td>2020-09-30</td>\n",
              "      <td>ASIANPAINT</td>\n",
              "      <td>EQ</td>\n",
              "      <td>1959.95</td>\n",
              "      <td>1966.10</td>\n",
              "      <td>2004.00</td>\n",
              "      <td>1958.15</td>\n",
              "      <td>1981.60</td>\n",
              "      <td>1986.40</td>\n",
              "      <td>1986.34</td>\n",
              "      <td>2518983</td>\n",
              "      <td>5.003551e+14</td>\n",
              "      <td>78990.0</td>\n",
              "      <td>487735.0</td>\n",
              "      <td>0.1936</td>\n",
              "    </tr>\n",
              "  </tbody>\n",
              "</table>\n",
              "<p>5163 rows × 15 columns</p>\n",
              "</div>"
            ],
            "text/plain": [
              "            Date      Symbol Series  Prev Close     Open     High      Low  \\\n",
              "0     2000-01-03  ASIANPAINT     EQ      361.20   370.00   390.00   370.00   \n",
              "1     2000-01-04  ASIANPAINT     EQ      381.65   380.00   392.00   375.00   \n",
              "2     2000-01-05  ASIANPAINT     EQ      385.55   371.50   390.00   371.50   \n",
              "3     2000-01-06  ASIANPAINT     EQ      383.00   384.90   384.90   374.50   \n",
              "4     2000-01-07  ASIANPAINT     EQ      377.50   376.00   390.00   370.00   \n",
              "...          ...         ...    ...         ...      ...      ...      ...   \n",
              "5158  2020-09-24  ASIANPAINT     EQ     1946.55  1941.55  1945.00  1907.75   \n",
              "5159  2020-09-25  ASIANPAINT     EQ     1918.35  1925.25  1955.00  1908.00   \n",
              "5160  2020-09-28  ASIANPAINT     EQ     1925.60  1938.00  1958.00  1930.00   \n",
              "5161  2020-09-29  ASIANPAINT     EQ     1945.60  1960.00  1989.95  1954.00   \n",
              "5162  2020-09-30  ASIANPAINT     EQ     1959.95  1966.10  2004.00  1958.15   \n",
              "\n",
              "         Last    Close     VWAP   Volume      Turnover   Trades  \\\n",
              "0      385.00   381.65   380.54     3318  1.262617e+11      NaN   \n",
              "1      390.00   385.55   383.50     4818  1.847699e+11      NaN   \n",
              "2      383.00   383.00   379.81     2628  9.981384e+10      NaN   \n",
              "3      375.10   377.50   379.88     3354  1.274114e+11      NaN   \n",
              "4      389.00   385.70   383.38     9589  3.676275e+11      NaN   \n",
              "...       ...      ...      ...      ...           ...      ...   \n",
              "5158  1915.00  1918.35  1925.25  1906183  3.669875e+14  95127.0   \n",
              "5159  1924.70  1925.60  1930.25  1939344  3.743411e+14  64362.0   \n",
              "5160  1953.00  1945.60  1944.26  1137313  2.211237e+14  44849.0   \n",
              "5161  1961.95  1959.95  1969.39  1965398  3.870643e+14  71097.0   \n",
              "5162  1981.60  1986.40  1986.34  2518983  5.003551e+14  78990.0   \n",
              "\n",
              "      Deliverable Volume  %Deliverble  \n",
              "0                    NaN          NaN  \n",
              "1                    NaN          NaN  \n",
              "2                    NaN          NaN  \n",
              "3                    NaN          NaN  \n",
              "4                    NaN          NaN  \n",
              "...                  ...          ...  \n",
              "5158            612886.0       0.3215  \n",
              "5159            316629.0       0.1633  \n",
              "5160            189262.0       0.1664  \n",
              "5161            407761.0       0.2075  \n",
              "5162            487735.0       0.1936  \n",
              "\n",
              "[5163 rows x 15 columns]"
            ]
          },
          "execution_count": 222,
          "metadata": {},
          "output_type": "execute_result"
        }
      ],
      "source": [
        "data"
      ]
    },
    {
      "cell_type": "code",
      "execution_count": null,
      "metadata": {
        "id": "5AtIsAQUSt0y",
        "outputId": "8356bdb4-8a24-4fa6-ffcb-69ab25a7f91f"
      },
      "outputs": [
        {
          "data": {
            "text/plain": [
              "Index(['Date', 'Symbol', 'Series', 'Prev Close', 'Open', 'High', 'Low', 'Last',\n",
              "       'Close', 'VWAP', 'Volume', 'Turnover', 'Trades', 'Deliverable Volume',\n",
              "       '%Deliverble'],\n",
              "      dtype='object')"
            ]
          },
          "execution_count": 223,
          "metadata": {},
          "output_type": "execute_result"
        }
      ],
      "source": [
        "data.columns"
      ]
    },
    {
      "cell_type": "code",
      "execution_count": null,
      "metadata": {
        "id": "aEXF8qc9St0y",
        "outputId": "8c8f3fbd-cdd6-46cb-96d0-e723fda2d7c4"
      },
      "outputs": [
        {
          "data": {
            "text/plain": [
              "<bound method NDFrame.describe of             Date      Symbol Series  Prev Close     Open     High      Low  \\\n",
              "0     2000-01-03  ASIANPAINT     EQ      361.20   370.00   390.00   370.00   \n",
              "1     2000-01-04  ASIANPAINT     EQ      381.65   380.00   392.00   375.00   \n",
              "2     2000-01-05  ASIANPAINT     EQ      385.55   371.50   390.00   371.50   \n",
              "3     2000-01-06  ASIANPAINT     EQ      383.00   384.90   384.90   374.50   \n",
              "4     2000-01-07  ASIANPAINT     EQ      377.50   376.00   390.00   370.00   \n",
              "...          ...         ...    ...         ...      ...      ...      ...   \n",
              "5158  2020-09-24  ASIANPAINT     EQ     1946.55  1941.55  1945.00  1907.75   \n",
              "5159  2020-09-25  ASIANPAINT     EQ     1918.35  1925.25  1955.00  1908.00   \n",
              "5160  2020-09-28  ASIANPAINT     EQ     1925.60  1938.00  1958.00  1930.00   \n",
              "5161  2020-09-29  ASIANPAINT     EQ     1945.60  1960.00  1989.95  1954.00   \n",
              "5162  2020-09-30  ASIANPAINT     EQ     1959.95  1966.10  2004.00  1958.15   \n",
              "\n",
              "         Last    Close     VWAP   Volume      Turnover   Trades  \\\n",
              "0      385.00   381.65   380.54     3318  1.262617e+11      NaN   \n",
              "1      390.00   385.55   383.50     4818  1.847699e+11      NaN   \n",
              "2      383.00   383.00   379.81     2628  9.981384e+10      NaN   \n",
              "3      375.10   377.50   379.88     3354  1.274114e+11      NaN   \n",
              "4      389.00   385.70   383.38     9589  3.676275e+11      NaN   \n",
              "...       ...      ...      ...      ...           ...      ...   \n",
              "5158  1915.00  1918.35  1925.25  1906183  3.669875e+14  95127.0   \n",
              "5159  1924.70  1925.60  1930.25  1939344  3.743411e+14  64362.0   \n",
              "5160  1953.00  1945.60  1944.26  1137313  2.211237e+14  44849.0   \n",
              "5161  1961.95  1959.95  1969.39  1965398  3.870643e+14  71097.0   \n",
              "5162  1981.60  1986.40  1986.34  2518983  5.003551e+14  78990.0   \n",
              "\n",
              "      Deliverable Volume  %Deliverble  \n",
              "0                    NaN          NaN  \n",
              "1                    NaN          NaN  \n",
              "2                    NaN          NaN  \n",
              "3                    NaN          NaN  \n",
              "4                    NaN          NaN  \n",
              "...                  ...          ...  \n",
              "5158            612886.0       0.3215  \n",
              "5159            316629.0       0.1633  \n",
              "5160            189262.0       0.1664  \n",
              "5161            407761.0       0.2075  \n",
              "5162            487735.0       0.1936  \n",
              "\n",
              "[5163 rows x 15 columns]>"
            ]
          },
          "execution_count": 224,
          "metadata": {},
          "output_type": "execute_result"
        }
      ],
      "source": [
        "data.describe"
      ]
    },
    {
      "cell_type": "code",
      "execution_count": null,
      "metadata": {
        "id": "fUyxdPUsSt0y",
        "outputId": "42cf9a8c-4f4b-4415-b39f-653f60c3b5ef"
      },
      "outputs": [
        {
          "data": {
            "text/plain": [
              "(5163, 15)"
            ]
          },
          "execution_count": 225,
          "metadata": {},
          "output_type": "execute_result"
        }
      ],
      "source": [
        "data.shape"
      ]
    },
    {
      "cell_type": "code",
      "execution_count": null,
      "metadata": {
        "id": "CX5NhvFlSt0y",
        "outputId": "a172e18b-edea-4983-b797-715c5e77c256"
      },
      "outputs": [
        {
          "data": {
            "text/plain": [
              "5163"
            ]
          },
          "execution_count": 226,
          "metadata": {},
          "output_type": "execute_result"
        }
      ],
      "source": [
        "len(data)"
      ]
    },
    {
      "cell_type": "code",
      "execution_count": null,
      "metadata": {
        "id": "PDK9L0DRSt0y",
        "outputId": "ba932d3f-908b-4777-98f0-311930471e00"
      },
      "outputs": [
        {
          "data": {
            "text/plain": [
              "True"
            ]
          },
          "execution_count": 227,
          "metadata": {},
          "output_type": "execute_result"
        }
      ],
      "source": [
        "data.isnull().values.any()"
      ]
    },
    {
      "cell_type": "code",
      "execution_count": null,
      "metadata": {
        "id": "Z8ebakjySt0z",
        "outputId": "423876fb-308c-416e-f51e-d25fcedf1bef"
      },
      "outputs": [
        {
          "data": {
            "text/html": [
              "<div>\n",
              "<style scoped>\n",
              "    .dataframe tbody tr th:only-of-type {\n",
              "        vertical-align: middle;\n",
              "    }\n",
              "\n",
              "    .dataframe tbody tr th {\n",
              "        vertical-align: top;\n",
              "    }\n",
              "\n",
              "    .dataframe thead th {\n",
              "        text-align: right;\n",
              "    }\n",
              "</style>\n",
              "<table border=\"1\" class=\"dataframe\">\n",
              "  <thead>\n",
              "    <tr style=\"text-align: right;\">\n",
              "      <th></th>\n",
              "      <th>Date</th>\n",
              "      <th>Symbol</th>\n",
              "      <th>Series</th>\n",
              "      <th>Prev Close</th>\n",
              "      <th>Open</th>\n",
              "      <th>High</th>\n",
              "      <th>Low</th>\n",
              "      <th>Last</th>\n",
              "      <th>Close</th>\n",
              "      <th>VWAP</th>\n",
              "      <th>Volume</th>\n",
              "      <th>Turnover</th>\n",
              "      <th>Trades</th>\n",
              "      <th>Deliverable Volume</th>\n",
              "      <th>%Deliverble</th>\n",
              "    </tr>\n",
              "  </thead>\n",
              "  <tbody>\n",
              "    <tr>\n",
              "      <th>0</th>\n",
              "      <td>True</td>\n",
              "      <td>True</td>\n",
              "      <td>True</td>\n",
              "      <td>True</td>\n",
              "      <td>True</td>\n",
              "      <td>True</td>\n",
              "      <td>True</td>\n",
              "      <td>True</td>\n",
              "      <td>True</td>\n",
              "      <td>True</td>\n",
              "      <td>True</td>\n",
              "      <td>True</td>\n",
              "      <td>False</td>\n",
              "      <td>False</td>\n",
              "      <td>False</td>\n",
              "    </tr>\n",
              "    <tr>\n",
              "      <th>1</th>\n",
              "      <td>True</td>\n",
              "      <td>True</td>\n",
              "      <td>True</td>\n",
              "      <td>True</td>\n",
              "      <td>True</td>\n",
              "      <td>True</td>\n",
              "      <td>True</td>\n",
              "      <td>True</td>\n",
              "      <td>True</td>\n",
              "      <td>True</td>\n",
              "      <td>True</td>\n",
              "      <td>True</td>\n",
              "      <td>False</td>\n",
              "      <td>False</td>\n",
              "      <td>False</td>\n",
              "    </tr>\n",
              "    <tr>\n",
              "      <th>2</th>\n",
              "      <td>True</td>\n",
              "      <td>True</td>\n",
              "      <td>True</td>\n",
              "      <td>True</td>\n",
              "      <td>True</td>\n",
              "      <td>True</td>\n",
              "      <td>True</td>\n",
              "      <td>True</td>\n",
              "      <td>True</td>\n",
              "      <td>True</td>\n",
              "      <td>True</td>\n",
              "      <td>True</td>\n",
              "      <td>False</td>\n",
              "      <td>False</td>\n",
              "      <td>False</td>\n",
              "    </tr>\n",
              "    <tr>\n",
              "      <th>3</th>\n",
              "      <td>True</td>\n",
              "      <td>True</td>\n",
              "      <td>True</td>\n",
              "      <td>True</td>\n",
              "      <td>True</td>\n",
              "      <td>True</td>\n",
              "      <td>True</td>\n",
              "      <td>True</td>\n",
              "      <td>True</td>\n",
              "      <td>True</td>\n",
              "      <td>True</td>\n",
              "      <td>True</td>\n",
              "      <td>False</td>\n",
              "      <td>False</td>\n",
              "      <td>False</td>\n",
              "    </tr>\n",
              "    <tr>\n",
              "      <th>4</th>\n",
              "      <td>True</td>\n",
              "      <td>True</td>\n",
              "      <td>True</td>\n",
              "      <td>True</td>\n",
              "      <td>True</td>\n",
              "      <td>True</td>\n",
              "      <td>True</td>\n",
              "      <td>True</td>\n",
              "      <td>True</td>\n",
              "      <td>True</td>\n",
              "      <td>True</td>\n",
              "      <td>True</td>\n",
              "      <td>False</td>\n",
              "      <td>False</td>\n",
              "      <td>False</td>\n",
              "    </tr>\n",
              "    <tr>\n",
              "      <th>...</th>\n",
              "      <td>...</td>\n",
              "      <td>...</td>\n",
              "      <td>...</td>\n",
              "      <td>...</td>\n",
              "      <td>...</td>\n",
              "      <td>...</td>\n",
              "      <td>...</td>\n",
              "      <td>...</td>\n",
              "      <td>...</td>\n",
              "      <td>...</td>\n",
              "      <td>...</td>\n",
              "      <td>...</td>\n",
              "      <td>...</td>\n",
              "      <td>...</td>\n",
              "      <td>...</td>\n",
              "    </tr>\n",
              "    <tr>\n",
              "      <th>5158</th>\n",
              "      <td>True</td>\n",
              "      <td>True</td>\n",
              "      <td>True</td>\n",
              "      <td>True</td>\n",
              "      <td>True</td>\n",
              "      <td>True</td>\n",
              "      <td>True</td>\n",
              "      <td>True</td>\n",
              "      <td>True</td>\n",
              "      <td>True</td>\n",
              "      <td>True</td>\n",
              "      <td>True</td>\n",
              "      <td>True</td>\n",
              "      <td>True</td>\n",
              "      <td>True</td>\n",
              "    </tr>\n",
              "    <tr>\n",
              "      <th>5159</th>\n",
              "      <td>True</td>\n",
              "      <td>True</td>\n",
              "      <td>True</td>\n",
              "      <td>True</td>\n",
              "      <td>True</td>\n",
              "      <td>True</td>\n",
              "      <td>True</td>\n",
              "      <td>True</td>\n",
              "      <td>True</td>\n",
              "      <td>True</td>\n",
              "      <td>True</td>\n",
              "      <td>True</td>\n",
              "      <td>True</td>\n",
              "      <td>True</td>\n",
              "      <td>True</td>\n",
              "    </tr>\n",
              "    <tr>\n",
              "      <th>5160</th>\n",
              "      <td>True</td>\n",
              "      <td>True</td>\n",
              "      <td>True</td>\n",
              "      <td>True</td>\n",
              "      <td>True</td>\n",
              "      <td>True</td>\n",
              "      <td>True</td>\n",
              "      <td>True</td>\n",
              "      <td>True</td>\n",
              "      <td>True</td>\n",
              "      <td>True</td>\n",
              "      <td>True</td>\n",
              "      <td>True</td>\n",
              "      <td>True</td>\n",
              "      <td>True</td>\n",
              "    </tr>\n",
              "    <tr>\n",
              "      <th>5161</th>\n",
              "      <td>True</td>\n",
              "      <td>True</td>\n",
              "      <td>True</td>\n",
              "      <td>True</td>\n",
              "      <td>True</td>\n",
              "      <td>True</td>\n",
              "      <td>True</td>\n",
              "      <td>True</td>\n",
              "      <td>True</td>\n",
              "      <td>True</td>\n",
              "      <td>True</td>\n",
              "      <td>True</td>\n",
              "      <td>True</td>\n",
              "      <td>True</td>\n",
              "      <td>True</td>\n",
              "    </tr>\n",
              "    <tr>\n",
              "      <th>5162</th>\n",
              "      <td>True</td>\n",
              "      <td>True</td>\n",
              "      <td>True</td>\n",
              "      <td>True</td>\n",
              "      <td>True</td>\n",
              "      <td>True</td>\n",
              "      <td>True</td>\n",
              "      <td>True</td>\n",
              "      <td>True</td>\n",
              "      <td>True</td>\n",
              "      <td>True</td>\n",
              "      <td>True</td>\n",
              "      <td>True</td>\n",
              "      <td>True</td>\n",
              "      <td>True</td>\n",
              "    </tr>\n",
              "  </tbody>\n",
              "</table>\n",
              "<p>5163 rows × 15 columns</p>\n",
              "</div>"
            ],
            "text/plain": [
              "      Date  Symbol  Series  Prev Close  Open  High   Low  Last  Close  VWAP  \\\n",
              "0     True    True    True        True  True  True  True  True   True  True   \n",
              "1     True    True    True        True  True  True  True  True   True  True   \n",
              "2     True    True    True        True  True  True  True  True   True  True   \n",
              "3     True    True    True        True  True  True  True  True   True  True   \n",
              "4     True    True    True        True  True  True  True  True   True  True   \n",
              "...    ...     ...     ...         ...   ...   ...   ...   ...    ...   ...   \n",
              "5158  True    True    True        True  True  True  True  True   True  True   \n",
              "5159  True    True    True        True  True  True  True  True   True  True   \n",
              "5160  True    True    True        True  True  True  True  True   True  True   \n",
              "5161  True    True    True        True  True  True  True  True   True  True   \n",
              "5162  True    True    True        True  True  True  True  True   True  True   \n",
              "\n",
              "      Volume  Turnover  Trades  Deliverable Volume  %Deliverble  \n",
              "0       True      True   False               False        False  \n",
              "1       True      True   False               False        False  \n",
              "2       True      True   False               False        False  \n",
              "3       True      True   False               False        False  \n",
              "4       True      True   False               False        False  \n",
              "...      ...       ...     ...                 ...          ...  \n",
              "5158    True      True    True                True         True  \n",
              "5159    True      True    True                True         True  \n",
              "5160    True      True    True                True         True  \n",
              "5161    True      True    True                True         True  \n",
              "5162    True      True    True                True         True  \n",
              "\n",
              "[5163 rows x 15 columns]"
            ]
          },
          "execution_count": 228,
          "metadata": {},
          "output_type": "execute_result"
        }
      ],
      "source": [
        "data.notnull()"
      ]
    },
    {
      "cell_type": "code",
      "execution_count": null,
      "metadata": {
        "id": "AaD8emXeSt00",
        "outputId": "177e9cfb-5f03-4449-c732-7754ad4f84b7"
      },
      "outputs": [
        {
          "data": {
            "text/html": [
              "<div>\n",
              "<style scoped>\n",
              "    .dataframe tbody tr th:only-of-type {\n",
              "        vertical-align: middle;\n",
              "    }\n",
              "\n",
              "    .dataframe tbody tr th {\n",
              "        vertical-align: top;\n",
              "    }\n",
              "\n",
              "    .dataframe thead th {\n",
              "        text-align: right;\n",
              "    }\n",
              "</style>\n",
              "<table border=\"1\" class=\"dataframe\">\n",
              "  <thead>\n",
              "    <tr style=\"text-align: right;\">\n",
              "      <th></th>\n",
              "      <th>Date</th>\n",
              "      <th>Symbol</th>\n",
              "      <th>Series</th>\n",
              "      <th>Prev Close</th>\n",
              "      <th>Open</th>\n",
              "      <th>High</th>\n",
              "      <th>Low</th>\n",
              "      <th>Last</th>\n",
              "      <th>Close</th>\n",
              "      <th>VWAP</th>\n",
              "      <th>Volume</th>\n",
              "      <th>Turnover</th>\n",
              "      <th>Trades</th>\n",
              "      <th>Deliverable Volume</th>\n",
              "      <th>%Deliverble</th>\n",
              "    </tr>\n",
              "  </thead>\n",
              "  <tbody>\n",
              "    <tr>\n",
              "      <th>0</th>\n",
              "      <td>2000-01-03</td>\n",
              "      <td>ASIANPAINT</td>\n",
              "      <td>EQ</td>\n",
              "      <td>361.20</td>\n",
              "      <td>370.00</td>\n",
              "      <td>390.00</td>\n",
              "      <td>370.00</td>\n",
              "      <td>385.00</td>\n",
              "      <td>381.65</td>\n",
              "      <td>380.54</td>\n",
              "      <td>3318</td>\n",
              "      <td>1.262617e+11</td>\n",
              "      <td>0.0</td>\n",
              "      <td>0.0</td>\n",
              "      <td>0.0000</td>\n",
              "    </tr>\n",
              "    <tr>\n",
              "      <th>1</th>\n",
              "      <td>2000-01-04</td>\n",
              "      <td>ASIANPAINT</td>\n",
              "      <td>EQ</td>\n",
              "      <td>381.65</td>\n",
              "      <td>380.00</td>\n",
              "      <td>392.00</td>\n",
              "      <td>375.00</td>\n",
              "      <td>390.00</td>\n",
              "      <td>385.55</td>\n",
              "      <td>383.50</td>\n",
              "      <td>4818</td>\n",
              "      <td>1.847699e+11</td>\n",
              "      <td>0.0</td>\n",
              "      <td>0.0</td>\n",
              "      <td>0.0000</td>\n",
              "    </tr>\n",
              "    <tr>\n",
              "      <th>2</th>\n",
              "      <td>2000-01-05</td>\n",
              "      <td>ASIANPAINT</td>\n",
              "      <td>EQ</td>\n",
              "      <td>385.55</td>\n",
              "      <td>371.50</td>\n",
              "      <td>390.00</td>\n",
              "      <td>371.50</td>\n",
              "      <td>383.00</td>\n",
              "      <td>383.00</td>\n",
              "      <td>379.81</td>\n",
              "      <td>2628</td>\n",
              "      <td>9.981384e+10</td>\n",
              "      <td>0.0</td>\n",
              "      <td>0.0</td>\n",
              "      <td>0.0000</td>\n",
              "    </tr>\n",
              "    <tr>\n",
              "      <th>3</th>\n",
              "      <td>2000-01-06</td>\n",
              "      <td>ASIANPAINT</td>\n",
              "      <td>EQ</td>\n",
              "      <td>383.00</td>\n",
              "      <td>384.90</td>\n",
              "      <td>384.90</td>\n",
              "      <td>374.50</td>\n",
              "      <td>375.10</td>\n",
              "      <td>377.50</td>\n",
              "      <td>379.88</td>\n",
              "      <td>3354</td>\n",
              "      <td>1.274114e+11</td>\n",
              "      <td>0.0</td>\n",
              "      <td>0.0</td>\n",
              "      <td>0.0000</td>\n",
              "    </tr>\n",
              "    <tr>\n",
              "      <th>4</th>\n",
              "      <td>2000-01-07</td>\n",
              "      <td>ASIANPAINT</td>\n",
              "      <td>EQ</td>\n",
              "      <td>377.50</td>\n",
              "      <td>376.00</td>\n",
              "      <td>390.00</td>\n",
              "      <td>370.00</td>\n",
              "      <td>389.00</td>\n",
              "      <td>385.70</td>\n",
              "      <td>383.38</td>\n",
              "      <td>9589</td>\n",
              "      <td>3.676275e+11</td>\n",
              "      <td>0.0</td>\n",
              "      <td>0.0</td>\n",
              "      <td>0.0000</td>\n",
              "    </tr>\n",
              "    <tr>\n",
              "      <th>...</th>\n",
              "      <td>...</td>\n",
              "      <td>...</td>\n",
              "      <td>...</td>\n",
              "      <td>...</td>\n",
              "      <td>...</td>\n",
              "      <td>...</td>\n",
              "      <td>...</td>\n",
              "      <td>...</td>\n",
              "      <td>...</td>\n",
              "      <td>...</td>\n",
              "      <td>...</td>\n",
              "      <td>...</td>\n",
              "      <td>...</td>\n",
              "      <td>...</td>\n",
              "      <td>...</td>\n",
              "    </tr>\n",
              "    <tr>\n",
              "      <th>5158</th>\n",
              "      <td>2020-09-24</td>\n",
              "      <td>ASIANPAINT</td>\n",
              "      <td>EQ</td>\n",
              "      <td>1946.55</td>\n",
              "      <td>1941.55</td>\n",
              "      <td>1945.00</td>\n",
              "      <td>1907.75</td>\n",
              "      <td>1915.00</td>\n",
              "      <td>1918.35</td>\n",
              "      <td>1925.25</td>\n",
              "      <td>1906183</td>\n",
              "      <td>3.669875e+14</td>\n",
              "      <td>95127.0</td>\n",
              "      <td>612886.0</td>\n",
              "      <td>0.3215</td>\n",
              "    </tr>\n",
              "    <tr>\n",
              "      <th>5159</th>\n",
              "      <td>2020-09-25</td>\n",
              "      <td>ASIANPAINT</td>\n",
              "      <td>EQ</td>\n",
              "      <td>1918.35</td>\n",
              "      <td>1925.25</td>\n",
              "      <td>1955.00</td>\n",
              "      <td>1908.00</td>\n",
              "      <td>1924.70</td>\n",
              "      <td>1925.60</td>\n",
              "      <td>1930.25</td>\n",
              "      <td>1939344</td>\n",
              "      <td>3.743411e+14</td>\n",
              "      <td>64362.0</td>\n",
              "      <td>316629.0</td>\n",
              "      <td>0.1633</td>\n",
              "    </tr>\n",
              "    <tr>\n",
              "      <th>5160</th>\n",
              "      <td>2020-09-28</td>\n",
              "      <td>ASIANPAINT</td>\n",
              "      <td>EQ</td>\n",
              "      <td>1925.60</td>\n",
              "      <td>1938.00</td>\n",
              "      <td>1958.00</td>\n",
              "      <td>1930.00</td>\n",
              "      <td>1953.00</td>\n",
              "      <td>1945.60</td>\n",
              "      <td>1944.26</td>\n",
              "      <td>1137313</td>\n",
              "      <td>2.211237e+14</td>\n",
              "      <td>44849.0</td>\n",
              "      <td>189262.0</td>\n",
              "      <td>0.1664</td>\n",
              "    </tr>\n",
              "    <tr>\n",
              "      <th>5161</th>\n",
              "      <td>2020-09-29</td>\n",
              "      <td>ASIANPAINT</td>\n",
              "      <td>EQ</td>\n",
              "      <td>1945.60</td>\n",
              "      <td>1960.00</td>\n",
              "      <td>1989.95</td>\n",
              "      <td>1954.00</td>\n",
              "      <td>1961.95</td>\n",
              "      <td>1959.95</td>\n",
              "      <td>1969.39</td>\n",
              "      <td>1965398</td>\n",
              "      <td>3.870643e+14</td>\n",
              "      <td>71097.0</td>\n",
              "      <td>407761.0</td>\n",
              "      <td>0.2075</td>\n",
              "    </tr>\n",
              "    <tr>\n",
              "      <th>5162</th>\n",
              "      <td>2020-09-30</td>\n",
              "      <td>ASIANPAINT</td>\n",
              "      <td>EQ</td>\n",
              "      <td>1959.95</td>\n",
              "      <td>1966.10</td>\n",
              "      <td>2004.00</td>\n",
              "      <td>1958.15</td>\n",
              "      <td>1981.60</td>\n",
              "      <td>1986.40</td>\n",
              "      <td>1986.34</td>\n",
              "      <td>2518983</td>\n",
              "      <td>5.003551e+14</td>\n",
              "      <td>78990.0</td>\n",
              "      <td>487735.0</td>\n",
              "      <td>0.1936</td>\n",
              "    </tr>\n",
              "  </tbody>\n",
              "</table>\n",
              "<p>5163 rows × 15 columns</p>\n",
              "</div>"
            ],
            "text/plain": [
              "            Date      Symbol Series  Prev Close     Open     High      Low  \\\n",
              "0     2000-01-03  ASIANPAINT     EQ      361.20   370.00   390.00   370.00   \n",
              "1     2000-01-04  ASIANPAINT     EQ      381.65   380.00   392.00   375.00   \n",
              "2     2000-01-05  ASIANPAINT     EQ      385.55   371.50   390.00   371.50   \n",
              "3     2000-01-06  ASIANPAINT     EQ      383.00   384.90   384.90   374.50   \n",
              "4     2000-01-07  ASIANPAINT     EQ      377.50   376.00   390.00   370.00   \n",
              "...          ...         ...    ...         ...      ...      ...      ...   \n",
              "5158  2020-09-24  ASIANPAINT     EQ     1946.55  1941.55  1945.00  1907.75   \n",
              "5159  2020-09-25  ASIANPAINT     EQ     1918.35  1925.25  1955.00  1908.00   \n",
              "5160  2020-09-28  ASIANPAINT     EQ     1925.60  1938.00  1958.00  1930.00   \n",
              "5161  2020-09-29  ASIANPAINT     EQ     1945.60  1960.00  1989.95  1954.00   \n",
              "5162  2020-09-30  ASIANPAINT     EQ     1959.95  1966.10  2004.00  1958.15   \n",
              "\n",
              "         Last    Close     VWAP   Volume      Turnover   Trades  \\\n",
              "0      385.00   381.65   380.54     3318  1.262617e+11      0.0   \n",
              "1      390.00   385.55   383.50     4818  1.847699e+11      0.0   \n",
              "2      383.00   383.00   379.81     2628  9.981384e+10      0.0   \n",
              "3      375.10   377.50   379.88     3354  1.274114e+11      0.0   \n",
              "4      389.00   385.70   383.38     9589  3.676275e+11      0.0   \n",
              "...       ...      ...      ...      ...           ...      ...   \n",
              "5158  1915.00  1918.35  1925.25  1906183  3.669875e+14  95127.0   \n",
              "5159  1924.70  1925.60  1930.25  1939344  3.743411e+14  64362.0   \n",
              "5160  1953.00  1945.60  1944.26  1137313  2.211237e+14  44849.0   \n",
              "5161  1961.95  1959.95  1969.39  1965398  3.870643e+14  71097.0   \n",
              "5162  1981.60  1986.40  1986.34  2518983  5.003551e+14  78990.0   \n",
              "\n",
              "      Deliverable Volume  %Deliverble  \n",
              "0                    0.0       0.0000  \n",
              "1                    0.0       0.0000  \n",
              "2                    0.0       0.0000  \n",
              "3                    0.0       0.0000  \n",
              "4                    0.0       0.0000  \n",
              "...                  ...          ...  \n",
              "5158            612886.0       0.3215  \n",
              "5159            316629.0       0.1633  \n",
              "5160            189262.0       0.1664  \n",
              "5161            407761.0       0.2075  \n",
              "5162            487735.0       0.1936  \n",
              "\n",
              "[5163 rows x 15 columns]"
            ]
          },
          "execution_count": 229,
          "metadata": {},
          "output_type": "execute_result"
        }
      ],
      "source": [
        "fill_nan=data.fillna(0)\n",
        "fill_nan"
      ]
    },
    {
      "cell_type": "code",
      "execution_count": null,
      "metadata": {
        "id": "KZ4JijLrSt01",
        "outputId": "e71d9bf5-5a5f-45cf-cd5f-4e3c97279bff"
      },
      "outputs": [
        {
          "data": {
            "text/plain": [
              "False"
            ]
          },
          "execution_count": 230,
          "metadata": {},
          "output_type": "execute_result"
        }
      ],
      "source": [
        "fill_nan.isnull().values.any()"
      ]
    },
    {
      "cell_type": "code",
      "execution_count": null,
      "metadata": {
        "id": "n5_H6jx6St01",
        "outputId": "2fa82e55-5789-4668-f4b3-8439df402bcb"
      },
      "outputs": [
        {
          "name": "stdout",
          "output_type": "stream",
          "text": [
            "0       1.262617e+11\n",
            "1       1.847699e+11\n",
            "2       9.981384e+10\n",
            "3       1.274114e+11\n",
            "4       3.676275e+11\n",
            "            ...     \n",
            "5158    3.669875e+14\n",
            "5159    3.743411e+14\n",
            "5160    2.211237e+14\n",
            "5161    3.870643e+14\n",
            "5162    5.003551e+14\n",
            "Name: Turnover, Length: 5163, dtype: float64\n"
          ]
        }
      ],
      "source": [
        "print(data['Turnover'])"
      ]
    },
    {
      "cell_type": "code",
      "execution_count": null,
      "metadata": {
        "id": "r027eNdpSt02"
      },
      "outputs": [],
      "source": [
        "data2= pd.read_csv(\"nifty50-stock-market-data/AXISBANK.csv\")"
      ]
    },
    {
      "cell_type": "code",
      "execution_count": null,
      "metadata": {
        "id": "2qoW9rl-St02",
        "outputId": "655e952d-7927-44ea-cd85-13044b23ef70"
      },
      "outputs": [
        {
          "data": {
            "text/html": [
              "<div>\n",
              "<style scoped>\n",
              "    .dataframe tbody tr th:only-of-type {\n",
              "        vertical-align: middle;\n",
              "    }\n",
              "\n",
              "    .dataframe tbody tr th {\n",
              "        vertical-align: top;\n",
              "    }\n",
              "\n",
              "    .dataframe thead th {\n",
              "        text-align: right;\n",
              "    }\n",
              "</style>\n",
              "<table border=\"1\" class=\"dataframe\">\n",
              "  <thead>\n",
              "    <tr style=\"text-align: right;\">\n",
              "      <th></th>\n",
              "      <th>Date</th>\n",
              "      <th>Symbol</th>\n",
              "      <th>Series</th>\n",
              "      <th>Prev Close</th>\n",
              "      <th>Open</th>\n",
              "      <th>High</th>\n",
              "      <th>Low</th>\n",
              "      <th>Last</th>\n",
              "      <th>Close</th>\n",
              "      <th>VWAP</th>\n",
              "      <th>Volume</th>\n",
              "      <th>Turnover</th>\n",
              "      <th>Trades</th>\n",
              "      <th>Deliverable Volume</th>\n",
              "      <th>%Deliverble</th>\n",
              "    </tr>\n",
              "  </thead>\n",
              "  <tbody>\n",
              "    <tr>\n",
              "      <th>0</th>\n",
              "      <td>2000-01-03</td>\n",
              "      <td>UTIBANK</td>\n",
              "      <td>EQ</td>\n",
              "      <td>24.70</td>\n",
              "      <td>26.7</td>\n",
              "      <td>26.70</td>\n",
              "      <td>26.70</td>\n",
              "      <td>26.70</td>\n",
              "      <td>26.70</td>\n",
              "      <td>26.70</td>\n",
              "      <td>112100</td>\n",
              "      <td>2.993070e+11</td>\n",
              "      <td>NaN</td>\n",
              "      <td>NaN</td>\n",
              "      <td>NaN</td>\n",
              "    </tr>\n",
              "    <tr>\n",
              "      <th>1</th>\n",
              "      <td>2000-01-04</td>\n",
              "      <td>UTIBANK</td>\n",
              "      <td>EQ</td>\n",
              "      <td>26.70</td>\n",
              "      <td>27.0</td>\n",
              "      <td>28.70</td>\n",
              "      <td>26.50</td>\n",
              "      <td>27.00</td>\n",
              "      <td>26.85</td>\n",
              "      <td>27.24</td>\n",
              "      <td>234500</td>\n",
              "      <td>6.387275e+11</td>\n",
              "      <td>NaN</td>\n",
              "      <td>NaN</td>\n",
              "      <td>NaN</td>\n",
              "    </tr>\n",
              "    <tr>\n",
              "      <th>2</th>\n",
              "      <td>2000-01-05</td>\n",
              "      <td>UTIBANK</td>\n",
              "      <td>EQ</td>\n",
              "      <td>26.85</td>\n",
              "      <td>26.0</td>\n",
              "      <td>27.75</td>\n",
              "      <td>25.50</td>\n",
              "      <td>26.40</td>\n",
              "      <td>26.30</td>\n",
              "      <td>26.24</td>\n",
              "      <td>170100</td>\n",
              "      <td>4.462980e+11</td>\n",
              "      <td>NaN</td>\n",
              "      <td>NaN</td>\n",
              "      <td>NaN</td>\n",
              "    </tr>\n",
              "    <tr>\n",
              "      <th>3</th>\n",
              "      <td>2000-01-06</td>\n",
              "      <td>UTIBANK</td>\n",
              "      <td>EQ</td>\n",
              "      <td>26.30</td>\n",
              "      <td>25.8</td>\n",
              "      <td>27.00</td>\n",
              "      <td>25.80</td>\n",
              "      <td>25.90</td>\n",
              "      <td>25.95</td>\n",
              "      <td>26.27</td>\n",
              "      <td>102100</td>\n",
              "      <td>2.681730e+11</td>\n",
              "      <td>NaN</td>\n",
              "      <td>NaN</td>\n",
              "      <td>NaN</td>\n",
              "    </tr>\n",
              "    <tr>\n",
              "      <th>4</th>\n",
              "      <td>2000-01-07</td>\n",
              "      <td>UTIBANK</td>\n",
              "      <td>EQ</td>\n",
              "      <td>25.95</td>\n",
              "      <td>25.0</td>\n",
              "      <td>26.00</td>\n",
              "      <td>24.25</td>\n",
              "      <td>25.00</td>\n",
              "      <td>24.80</td>\n",
              "      <td>25.04</td>\n",
              "      <td>62600</td>\n",
              "      <td>1.567220e+11</td>\n",
              "      <td>NaN</td>\n",
              "      <td>NaN</td>\n",
              "      <td>NaN</td>\n",
              "    </tr>\n",
              "    <tr>\n",
              "      <th>...</th>\n",
              "      <td>...</td>\n",
              "      <td>...</td>\n",
              "      <td>...</td>\n",
              "      <td>...</td>\n",
              "      <td>...</td>\n",
              "      <td>...</td>\n",
              "      <td>...</td>\n",
              "      <td>...</td>\n",
              "      <td>...</td>\n",
              "      <td>...</td>\n",
              "      <td>...</td>\n",
              "      <td>...</td>\n",
              "      <td>...</td>\n",
              "      <td>...</td>\n",
              "      <td>...</td>\n",
              "    </tr>\n",
              "    <tr>\n",
              "      <th>5158</th>\n",
              "      <td>2020-09-24</td>\n",
              "      <td>AXISBANK</td>\n",
              "      <td>EQ</td>\n",
              "      <td>419.75</td>\n",
              "      <td>414.0</td>\n",
              "      <td>414.30</td>\n",
              "      <td>401.15</td>\n",
              "      <td>403.75</td>\n",
              "      <td>402.45</td>\n",
              "      <td>407.29</td>\n",
              "      <td>21177325</td>\n",
              "      <td>8.625288e+14</td>\n",
              "      <td>210451.0</td>\n",
              "      <td>6001295.0</td>\n",
              "      <td>0.2834</td>\n",
              "    </tr>\n",
              "    <tr>\n",
              "      <th>5159</th>\n",
              "      <td>2020-09-25</td>\n",
              "      <td>AXISBANK</td>\n",
              "      <td>EQ</td>\n",
              "      <td>402.45</td>\n",
              "      <td>407.5</td>\n",
              "      <td>416.70</td>\n",
              "      <td>400.15</td>\n",
              "      <td>413.25</td>\n",
              "      <td>415.05</td>\n",
              "      <td>408.38</td>\n",
              "      <td>20460158</td>\n",
              "      <td>8.355531e+14</td>\n",
              "      <td>189262.0</td>\n",
              "      <td>4352476.0</td>\n",
              "      <td>0.2127</td>\n",
              "    </tr>\n",
              "    <tr>\n",
              "      <th>5160</th>\n",
              "      <td>2020-09-28</td>\n",
              "      <td>AXISBANK</td>\n",
              "      <td>EQ</td>\n",
              "      <td>415.05</td>\n",
              "      <td>420.0</td>\n",
              "      <td>440.60</td>\n",
              "      <td>418.05</td>\n",
              "      <td>438.05</td>\n",
              "      <td>439.25</td>\n",
              "      <td>431.97</td>\n",
              "      <td>19389041</td>\n",
              "      <td>8.375437e+14</td>\n",
              "      <td>182384.0</td>\n",
              "      <td>4330611.0</td>\n",
              "      <td>0.2234</td>\n",
              "    </tr>\n",
              "    <tr>\n",
              "      <th>5161</th>\n",
              "      <td>2020-09-29</td>\n",
              "      <td>AXISBANK</td>\n",
              "      <td>EQ</td>\n",
              "      <td>439.25</td>\n",
              "      <td>442.4</td>\n",
              "      <td>443.30</td>\n",
              "      <td>424.80</td>\n",
              "      <td>427.00</td>\n",
              "      <td>426.85</td>\n",
              "      <td>430.53</td>\n",
              "      <td>19998529</td>\n",
              "      <td>8.609959e+14</td>\n",
              "      <td>190293.0</td>\n",
              "      <td>3527894.0</td>\n",
              "      <td>0.1764</td>\n",
              "    </tr>\n",
              "    <tr>\n",
              "      <th>5162</th>\n",
              "      <td>2020-09-30</td>\n",
              "      <td>AXISBANK</td>\n",
              "      <td>EQ</td>\n",
              "      <td>426.85</td>\n",
              "      <td>427.0</td>\n",
              "      <td>428.10</td>\n",
              "      <td>418.75</td>\n",
              "      <td>423.85</td>\n",
              "      <td>424.65</td>\n",
              "      <td>422.61</td>\n",
              "      <td>18485383</td>\n",
              "      <td>7.812139e+14</td>\n",
              "      <td>164178.0</td>\n",
              "      <td>2887189.0</td>\n",
              "      <td>0.1562</td>\n",
              "    </tr>\n",
              "  </tbody>\n",
              "</table>\n",
              "<p>5163 rows × 15 columns</p>\n",
              "</div>"
            ],
            "text/plain": [
              "            Date    Symbol Series  Prev Close   Open    High     Low    Last  \\\n",
              "0     2000-01-03   UTIBANK     EQ       24.70   26.7   26.70   26.70   26.70   \n",
              "1     2000-01-04   UTIBANK     EQ       26.70   27.0   28.70   26.50   27.00   \n",
              "2     2000-01-05   UTIBANK     EQ       26.85   26.0   27.75   25.50   26.40   \n",
              "3     2000-01-06   UTIBANK     EQ       26.30   25.8   27.00   25.80   25.90   \n",
              "4     2000-01-07   UTIBANK     EQ       25.95   25.0   26.00   24.25   25.00   \n",
              "...          ...       ...    ...         ...    ...     ...     ...     ...   \n",
              "5158  2020-09-24  AXISBANK     EQ      419.75  414.0  414.30  401.15  403.75   \n",
              "5159  2020-09-25  AXISBANK     EQ      402.45  407.5  416.70  400.15  413.25   \n",
              "5160  2020-09-28  AXISBANK     EQ      415.05  420.0  440.60  418.05  438.05   \n",
              "5161  2020-09-29  AXISBANK     EQ      439.25  442.4  443.30  424.80  427.00   \n",
              "5162  2020-09-30  AXISBANK     EQ      426.85  427.0  428.10  418.75  423.85   \n",
              "\n",
              "       Close    VWAP    Volume      Turnover    Trades  Deliverable Volume  \\\n",
              "0      26.70   26.70    112100  2.993070e+11       NaN                 NaN   \n",
              "1      26.85   27.24    234500  6.387275e+11       NaN                 NaN   \n",
              "2      26.30   26.24    170100  4.462980e+11       NaN                 NaN   \n",
              "3      25.95   26.27    102100  2.681730e+11       NaN                 NaN   \n",
              "4      24.80   25.04     62600  1.567220e+11       NaN                 NaN   \n",
              "...      ...     ...       ...           ...       ...                 ...   \n",
              "5158  402.45  407.29  21177325  8.625288e+14  210451.0           6001295.0   \n",
              "5159  415.05  408.38  20460158  8.355531e+14  189262.0           4352476.0   \n",
              "5160  439.25  431.97  19389041  8.375437e+14  182384.0           4330611.0   \n",
              "5161  426.85  430.53  19998529  8.609959e+14  190293.0           3527894.0   \n",
              "5162  424.65  422.61  18485383  7.812139e+14  164178.0           2887189.0   \n",
              "\n",
              "      %Deliverble  \n",
              "0             NaN  \n",
              "1             NaN  \n",
              "2             NaN  \n",
              "3             NaN  \n",
              "4             NaN  \n",
              "...           ...  \n",
              "5158       0.2834  \n",
              "5159       0.2127  \n",
              "5160       0.2234  \n",
              "5161       0.1764  \n",
              "5162       0.1562  \n",
              "\n",
              "[5163 rows x 15 columns]"
            ]
          },
          "execution_count": 233,
          "metadata": {},
          "output_type": "execute_result"
        }
      ],
      "source": [
        "data2"
      ]
    },
    {
      "cell_type": "code",
      "execution_count": null,
      "metadata": {
        "id": "5Qg0AqxuSt02"
      },
      "outputs": [],
      "source": [
        "merged_df = data.merge(data2, on=\"Date\")"
      ]
    },
    {
      "cell_type": "code",
      "execution_count": null,
      "metadata": {
        "id": "zCbPr5pZSt02",
        "outputId": "f0bdd3cc-d97e-470c-9337-56f8c43d793b"
      },
      "outputs": [
        {
          "data": {
            "text/html": [
              "<div>\n",
              "<style scoped>\n",
              "    .dataframe tbody tr th:only-of-type {\n",
              "        vertical-align: middle;\n",
              "    }\n",
              "\n",
              "    .dataframe tbody tr th {\n",
              "        vertical-align: top;\n",
              "    }\n",
              "\n",
              "    .dataframe thead th {\n",
              "        text-align: right;\n",
              "    }\n",
              "</style>\n",
              "<table border=\"1\" class=\"dataframe\">\n",
              "  <thead>\n",
              "    <tr style=\"text-align: right;\">\n",
              "      <th></th>\n",
              "      <th>Date</th>\n",
              "      <th>Symbol_x</th>\n",
              "      <th>Series_x</th>\n",
              "      <th>Prev Close_x</th>\n",
              "      <th>Open_x</th>\n",
              "      <th>High_x</th>\n",
              "      <th>Low_x</th>\n",
              "      <th>Last_x</th>\n",
              "      <th>Close_x</th>\n",
              "      <th>VWAP_x</th>\n",
              "      <th>...</th>\n",
              "      <th>High_y</th>\n",
              "      <th>Low_y</th>\n",
              "      <th>Last_y</th>\n",
              "      <th>Close_y</th>\n",
              "      <th>VWAP_y</th>\n",
              "      <th>Volume_y</th>\n",
              "      <th>Turnover_y</th>\n",
              "      <th>Trades_y</th>\n",
              "      <th>Deliverable Volume_y</th>\n",
              "      <th>%Deliverble_y</th>\n",
              "    </tr>\n",
              "  </thead>\n",
              "  <tbody>\n",
              "    <tr>\n",
              "      <th>0</th>\n",
              "      <td>2000-01-03</td>\n",
              "      <td>ASIANPAINT</td>\n",
              "      <td>EQ</td>\n",
              "      <td>361.20</td>\n",
              "      <td>370.00</td>\n",
              "      <td>390.00</td>\n",
              "      <td>370.00</td>\n",
              "      <td>385.00</td>\n",
              "      <td>381.65</td>\n",
              "      <td>380.54</td>\n",
              "      <td>...</td>\n",
              "      <td>26.70</td>\n",
              "      <td>26.70</td>\n",
              "      <td>26.70</td>\n",
              "      <td>26.70</td>\n",
              "      <td>26.70</td>\n",
              "      <td>112100</td>\n",
              "      <td>2.993070e+11</td>\n",
              "      <td>NaN</td>\n",
              "      <td>NaN</td>\n",
              "      <td>NaN</td>\n",
              "    </tr>\n",
              "    <tr>\n",
              "      <th>1</th>\n",
              "      <td>2000-01-04</td>\n",
              "      <td>ASIANPAINT</td>\n",
              "      <td>EQ</td>\n",
              "      <td>381.65</td>\n",
              "      <td>380.00</td>\n",
              "      <td>392.00</td>\n",
              "      <td>375.00</td>\n",
              "      <td>390.00</td>\n",
              "      <td>385.55</td>\n",
              "      <td>383.50</td>\n",
              "      <td>...</td>\n",
              "      <td>28.70</td>\n",
              "      <td>26.50</td>\n",
              "      <td>27.00</td>\n",
              "      <td>26.85</td>\n",
              "      <td>27.24</td>\n",
              "      <td>234500</td>\n",
              "      <td>6.387275e+11</td>\n",
              "      <td>NaN</td>\n",
              "      <td>NaN</td>\n",
              "      <td>NaN</td>\n",
              "    </tr>\n",
              "    <tr>\n",
              "      <th>2</th>\n",
              "      <td>2000-01-05</td>\n",
              "      <td>ASIANPAINT</td>\n",
              "      <td>EQ</td>\n",
              "      <td>385.55</td>\n",
              "      <td>371.50</td>\n",
              "      <td>390.00</td>\n",
              "      <td>371.50</td>\n",
              "      <td>383.00</td>\n",
              "      <td>383.00</td>\n",
              "      <td>379.81</td>\n",
              "      <td>...</td>\n",
              "      <td>27.75</td>\n",
              "      <td>25.50</td>\n",
              "      <td>26.40</td>\n",
              "      <td>26.30</td>\n",
              "      <td>26.24</td>\n",
              "      <td>170100</td>\n",
              "      <td>4.462980e+11</td>\n",
              "      <td>NaN</td>\n",
              "      <td>NaN</td>\n",
              "      <td>NaN</td>\n",
              "    </tr>\n",
              "    <tr>\n",
              "      <th>3</th>\n",
              "      <td>2000-01-06</td>\n",
              "      <td>ASIANPAINT</td>\n",
              "      <td>EQ</td>\n",
              "      <td>383.00</td>\n",
              "      <td>384.90</td>\n",
              "      <td>384.90</td>\n",
              "      <td>374.50</td>\n",
              "      <td>375.10</td>\n",
              "      <td>377.50</td>\n",
              "      <td>379.88</td>\n",
              "      <td>...</td>\n",
              "      <td>27.00</td>\n",
              "      <td>25.80</td>\n",
              "      <td>25.90</td>\n",
              "      <td>25.95</td>\n",
              "      <td>26.27</td>\n",
              "      <td>102100</td>\n",
              "      <td>2.681730e+11</td>\n",
              "      <td>NaN</td>\n",
              "      <td>NaN</td>\n",
              "      <td>NaN</td>\n",
              "    </tr>\n",
              "    <tr>\n",
              "      <th>4</th>\n",
              "      <td>2000-01-07</td>\n",
              "      <td>ASIANPAINT</td>\n",
              "      <td>EQ</td>\n",
              "      <td>377.50</td>\n",
              "      <td>376.00</td>\n",
              "      <td>390.00</td>\n",
              "      <td>370.00</td>\n",
              "      <td>389.00</td>\n",
              "      <td>385.70</td>\n",
              "      <td>383.38</td>\n",
              "      <td>...</td>\n",
              "      <td>26.00</td>\n",
              "      <td>24.25</td>\n",
              "      <td>25.00</td>\n",
              "      <td>24.80</td>\n",
              "      <td>25.04</td>\n",
              "      <td>62600</td>\n",
              "      <td>1.567220e+11</td>\n",
              "      <td>NaN</td>\n",
              "      <td>NaN</td>\n",
              "      <td>NaN</td>\n",
              "    </tr>\n",
              "    <tr>\n",
              "      <th>...</th>\n",
              "      <td>...</td>\n",
              "      <td>...</td>\n",
              "      <td>...</td>\n",
              "      <td>...</td>\n",
              "      <td>...</td>\n",
              "      <td>...</td>\n",
              "      <td>...</td>\n",
              "      <td>...</td>\n",
              "      <td>...</td>\n",
              "      <td>...</td>\n",
              "      <td>...</td>\n",
              "      <td>...</td>\n",
              "      <td>...</td>\n",
              "      <td>...</td>\n",
              "      <td>...</td>\n",
              "      <td>...</td>\n",
              "      <td>...</td>\n",
              "      <td>...</td>\n",
              "      <td>...</td>\n",
              "      <td>...</td>\n",
              "      <td>...</td>\n",
              "    </tr>\n",
              "    <tr>\n",
              "      <th>5158</th>\n",
              "      <td>2020-09-24</td>\n",
              "      <td>ASIANPAINT</td>\n",
              "      <td>EQ</td>\n",
              "      <td>1946.55</td>\n",
              "      <td>1941.55</td>\n",
              "      <td>1945.00</td>\n",
              "      <td>1907.75</td>\n",
              "      <td>1915.00</td>\n",
              "      <td>1918.35</td>\n",
              "      <td>1925.25</td>\n",
              "      <td>...</td>\n",
              "      <td>414.30</td>\n",
              "      <td>401.15</td>\n",
              "      <td>403.75</td>\n",
              "      <td>402.45</td>\n",
              "      <td>407.29</td>\n",
              "      <td>21177325</td>\n",
              "      <td>8.625288e+14</td>\n",
              "      <td>210451.0</td>\n",
              "      <td>6001295.0</td>\n",
              "      <td>0.2834</td>\n",
              "    </tr>\n",
              "    <tr>\n",
              "      <th>5159</th>\n",
              "      <td>2020-09-25</td>\n",
              "      <td>ASIANPAINT</td>\n",
              "      <td>EQ</td>\n",
              "      <td>1918.35</td>\n",
              "      <td>1925.25</td>\n",
              "      <td>1955.00</td>\n",
              "      <td>1908.00</td>\n",
              "      <td>1924.70</td>\n",
              "      <td>1925.60</td>\n",
              "      <td>1930.25</td>\n",
              "      <td>...</td>\n",
              "      <td>416.70</td>\n",
              "      <td>400.15</td>\n",
              "      <td>413.25</td>\n",
              "      <td>415.05</td>\n",
              "      <td>408.38</td>\n",
              "      <td>20460158</td>\n",
              "      <td>8.355531e+14</td>\n",
              "      <td>189262.0</td>\n",
              "      <td>4352476.0</td>\n",
              "      <td>0.2127</td>\n",
              "    </tr>\n",
              "    <tr>\n",
              "      <th>5160</th>\n",
              "      <td>2020-09-28</td>\n",
              "      <td>ASIANPAINT</td>\n",
              "      <td>EQ</td>\n",
              "      <td>1925.60</td>\n",
              "      <td>1938.00</td>\n",
              "      <td>1958.00</td>\n",
              "      <td>1930.00</td>\n",
              "      <td>1953.00</td>\n",
              "      <td>1945.60</td>\n",
              "      <td>1944.26</td>\n",
              "      <td>...</td>\n",
              "      <td>440.60</td>\n",
              "      <td>418.05</td>\n",
              "      <td>438.05</td>\n",
              "      <td>439.25</td>\n",
              "      <td>431.97</td>\n",
              "      <td>19389041</td>\n",
              "      <td>8.375437e+14</td>\n",
              "      <td>182384.0</td>\n",
              "      <td>4330611.0</td>\n",
              "      <td>0.2234</td>\n",
              "    </tr>\n",
              "    <tr>\n",
              "      <th>5161</th>\n",
              "      <td>2020-09-29</td>\n",
              "      <td>ASIANPAINT</td>\n",
              "      <td>EQ</td>\n",
              "      <td>1945.60</td>\n",
              "      <td>1960.00</td>\n",
              "      <td>1989.95</td>\n",
              "      <td>1954.00</td>\n",
              "      <td>1961.95</td>\n",
              "      <td>1959.95</td>\n",
              "      <td>1969.39</td>\n",
              "      <td>...</td>\n",
              "      <td>443.30</td>\n",
              "      <td>424.80</td>\n",
              "      <td>427.00</td>\n",
              "      <td>426.85</td>\n",
              "      <td>430.53</td>\n",
              "      <td>19998529</td>\n",
              "      <td>8.609959e+14</td>\n",
              "      <td>190293.0</td>\n",
              "      <td>3527894.0</td>\n",
              "      <td>0.1764</td>\n",
              "    </tr>\n",
              "    <tr>\n",
              "      <th>5162</th>\n",
              "      <td>2020-09-30</td>\n",
              "      <td>ASIANPAINT</td>\n",
              "      <td>EQ</td>\n",
              "      <td>1959.95</td>\n",
              "      <td>1966.10</td>\n",
              "      <td>2004.00</td>\n",
              "      <td>1958.15</td>\n",
              "      <td>1981.60</td>\n",
              "      <td>1986.40</td>\n",
              "      <td>1986.34</td>\n",
              "      <td>...</td>\n",
              "      <td>428.10</td>\n",
              "      <td>418.75</td>\n",
              "      <td>423.85</td>\n",
              "      <td>424.65</td>\n",
              "      <td>422.61</td>\n",
              "      <td>18485383</td>\n",
              "      <td>7.812139e+14</td>\n",
              "      <td>164178.0</td>\n",
              "      <td>2887189.0</td>\n",
              "      <td>0.1562</td>\n",
              "    </tr>\n",
              "  </tbody>\n",
              "</table>\n",
              "<p>5163 rows × 29 columns</p>\n",
              "</div>"
            ],
            "text/plain": [
              "            Date    Symbol_x Series_x  Prev Close_x   Open_x   High_x  \\\n",
              "0     2000-01-03  ASIANPAINT       EQ        361.20   370.00   390.00   \n",
              "1     2000-01-04  ASIANPAINT       EQ        381.65   380.00   392.00   \n",
              "2     2000-01-05  ASIANPAINT       EQ        385.55   371.50   390.00   \n",
              "3     2000-01-06  ASIANPAINT       EQ        383.00   384.90   384.90   \n",
              "4     2000-01-07  ASIANPAINT       EQ        377.50   376.00   390.00   \n",
              "...          ...         ...      ...           ...      ...      ...   \n",
              "5158  2020-09-24  ASIANPAINT       EQ       1946.55  1941.55  1945.00   \n",
              "5159  2020-09-25  ASIANPAINT       EQ       1918.35  1925.25  1955.00   \n",
              "5160  2020-09-28  ASIANPAINT       EQ       1925.60  1938.00  1958.00   \n",
              "5161  2020-09-29  ASIANPAINT       EQ       1945.60  1960.00  1989.95   \n",
              "5162  2020-09-30  ASIANPAINT       EQ       1959.95  1966.10  2004.00   \n",
              "\n",
              "        Low_x   Last_x  Close_x   VWAP_x  ...  High_y   Low_y  Last_y  \\\n",
              "0      370.00   385.00   381.65   380.54  ...   26.70   26.70   26.70   \n",
              "1      375.00   390.00   385.55   383.50  ...   28.70   26.50   27.00   \n",
              "2      371.50   383.00   383.00   379.81  ...   27.75   25.50   26.40   \n",
              "3      374.50   375.10   377.50   379.88  ...   27.00   25.80   25.90   \n",
              "4      370.00   389.00   385.70   383.38  ...   26.00   24.25   25.00   \n",
              "...       ...      ...      ...      ...  ...     ...     ...     ...   \n",
              "5158  1907.75  1915.00  1918.35  1925.25  ...  414.30  401.15  403.75   \n",
              "5159  1908.00  1924.70  1925.60  1930.25  ...  416.70  400.15  413.25   \n",
              "5160  1930.00  1953.00  1945.60  1944.26  ...  440.60  418.05  438.05   \n",
              "5161  1954.00  1961.95  1959.95  1969.39  ...  443.30  424.80  427.00   \n",
              "5162  1958.15  1981.60  1986.40  1986.34  ...  428.10  418.75  423.85   \n",
              "\n",
              "      Close_y  VWAP_y  Volume_y    Turnover_y  Trades_y  Deliverable Volume_y  \\\n",
              "0       26.70   26.70    112100  2.993070e+11       NaN                   NaN   \n",
              "1       26.85   27.24    234500  6.387275e+11       NaN                   NaN   \n",
              "2       26.30   26.24    170100  4.462980e+11       NaN                   NaN   \n",
              "3       25.95   26.27    102100  2.681730e+11       NaN                   NaN   \n",
              "4       24.80   25.04     62600  1.567220e+11       NaN                   NaN   \n",
              "...       ...     ...       ...           ...       ...                   ...   \n",
              "5158   402.45  407.29  21177325  8.625288e+14  210451.0             6001295.0   \n",
              "5159   415.05  408.38  20460158  8.355531e+14  189262.0             4352476.0   \n",
              "5160   439.25  431.97  19389041  8.375437e+14  182384.0             4330611.0   \n",
              "5161   426.85  430.53  19998529  8.609959e+14  190293.0             3527894.0   \n",
              "5162   424.65  422.61  18485383  7.812139e+14  164178.0             2887189.0   \n",
              "\n",
              "      %Deliverble_y  \n",
              "0               NaN  \n",
              "1               NaN  \n",
              "2               NaN  \n",
              "3               NaN  \n",
              "4               NaN  \n",
              "...             ...  \n",
              "5158         0.2834  \n",
              "5159         0.2127  \n",
              "5160         0.2234  \n",
              "5161         0.1764  \n",
              "5162         0.1562  \n",
              "\n",
              "[5163 rows x 29 columns]"
            ]
          },
          "execution_count": 235,
          "metadata": {},
          "output_type": "execute_result"
        }
      ],
      "source": [
        "merged_df"
      ]
    },
    {
      "cell_type": "code",
      "execution_count": null,
      "metadata": {
        "id": "0dhPMzvsSt03"
      },
      "outputs": [],
      "source": [
        "fill=merged_df.fillna(\"to be find\")"
      ]
    },
    {
      "cell_type": "code",
      "execution_count": null,
      "metadata": {
        "id": "5RUBg62WSt03",
        "outputId": "a12ece31-6459-4dc7-a4ea-6fbe73484b9a"
      },
      "outputs": [
        {
          "data": {
            "text/html": [
              "<div>\n",
              "<style scoped>\n",
              "    .dataframe tbody tr th:only-of-type {\n",
              "        vertical-align: middle;\n",
              "    }\n",
              "\n",
              "    .dataframe tbody tr th {\n",
              "        vertical-align: top;\n",
              "    }\n",
              "\n",
              "    .dataframe thead th {\n",
              "        text-align: right;\n",
              "    }\n",
              "</style>\n",
              "<table border=\"1\" class=\"dataframe\">\n",
              "  <thead>\n",
              "    <tr style=\"text-align: right;\">\n",
              "      <th></th>\n",
              "      <th>Date</th>\n",
              "      <th>Symbol_x</th>\n",
              "      <th>Series_x</th>\n",
              "      <th>Prev Close_x</th>\n",
              "      <th>Open_x</th>\n",
              "      <th>High_x</th>\n",
              "      <th>Low_x</th>\n",
              "      <th>Last_x</th>\n",
              "      <th>Close_x</th>\n",
              "      <th>VWAP_x</th>\n",
              "      <th>...</th>\n",
              "      <th>High_y</th>\n",
              "      <th>Low_y</th>\n",
              "      <th>Last_y</th>\n",
              "      <th>Close_y</th>\n",
              "      <th>VWAP_y</th>\n",
              "      <th>Volume_y</th>\n",
              "      <th>Turnover_y</th>\n",
              "      <th>Trades_y</th>\n",
              "      <th>Deliverable Volume_y</th>\n",
              "      <th>%Deliverble_y</th>\n",
              "    </tr>\n",
              "  </thead>\n",
              "  <tbody>\n",
              "    <tr>\n",
              "      <th>0</th>\n",
              "      <td>2000-01-03</td>\n",
              "      <td>ASIANPAINT</td>\n",
              "      <td>EQ</td>\n",
              "      <td>361.20</td>\n",
              "      <td>370.00</td>\n",
              "      <td>390.00</td>\n",
              "      <td>370.00</td>\n",
              "      <td>385.00</td>\n",
              "      <td>381.65</td>\n",
              "      <td>380.54</td>\n",
              "      <td>...</td>\n",
              "      <td>26.70</td>\n",
              "      <td>26.70</td>\n",
              "      <td>26.70</td>\n",
              "      <td>26.70</td>\n",
              "      <td>26.70</td>\n",
              "      <td>112100</td>\n",
              "      <td>2.993070e+11</td>\n",
              "      <td>to be find</td>\n",
              "      <td>to be find</td>\n",
              "      <td>to be find</td>\n",
              "    </tr>\n",
              "    <tr>\n",
              "      <th>1</th>\n",
              "      <td>2000-01-04</td>\n",
              "      <td>ASIANPAINT</td>\n",
              "      <td>EQ</td>\n",
              "      <td>381.65</td>\n",
              "      <td>380.00</td>\n",
              "      <td>392.00</td>\n",
              "      <td>375.00</td>\n",
              "      <td>390.00</td>\n",
              "      <td>385.55</td>\n",
              "      <td>383.50</td>\n",
              "      <td>...</td>\n",
              "      <td>28.70</td>\n",
              "      <td>26.50</td>\n",
              "      <td>27.00</td>\n",
              "      <td>26.85</td>\n",
              "      <td>27.24</td>\n",
              "      <td>234500</td>\n",
              "      <td>6.387275e+11</td>\n",
              "      <td>to be find</td>\n",
              "      <td>to be find</td>\n",
              "      <td>to be find</td>\n",
              "    </tr>\n",
              "    <tr>\n",
              "      <th>2</th>\n",
              "      <td>2000-01-05</td>\n",
              "      <td>ASIANPAINT</td>\n",
              "      <td>EQ</td>\n",
              "      <td>385.55</td>\n",
              "      <td>371.50</td>\n",
              "      <td>390.00</td>\n",
              "      <td>371.50</td>\n",
              "      <td>383.00</td>\n",
              "      <td>383.00</td>\n",
              "      <td>379.81</td>\n",
              "      <td>...</td>\n",
              "      <td>27.75</td>\n",
              "      <td>25.50</td>\n",
              "      <td>26.40</td>\n",
              "      <td>26.30</td>\n",
              "      <td>26.24</td>\n",
              "      <td>170100</td>\n",
              "      <td>4.462980e+11</td>\n",
              "      <td>to be find</td>\n",
              "      <td>to be find</td>\n",
              "      <td>to be find</td>\n",
              "    </tr>\n",
              "    <tr>\n",
              "      <th>3</th>\n",
              "      <td>2000-01-06</td>\n",
              "      <td>ASIANPAINT</td>\n",
              "      <td>EQ</td>\n",
              "      <td>383.00</td>\n",
              "      <td>384.90</td>\n",
              "      <td>384.90</td>\n",
              "      <td>374.50</td>\n",
              "      <td>375.10</td>\n",
              "      <td>377.50</td>\n",
              "      <td>379.88</td>\n",
              "      <td>...</td>\n",
              "      <td>27.00</td>\n",
              "      <td>25.80</td>\n",
              "      <td>25.90</td>\n",
              "      <td>25.95</td>\n",
              "      <td>26.27</td>\n",
              "      <td>102100</td>\n",
              "      <td>2.681730e+11</td>\n",
              "      <td>to be find</td>\n",
              "      <td>to be find</td>\n",
              "      <td>to be find</td>\n",
              "    </tr>\n",
              "    <tr>\n",
              "      <th>4</th>\n",
              "      <td>2000-01-07</td>\n",
              "      <td>ASIANPAINT</td>\n",
              "      <td>EQ</td>\n",
              "      <td>377.50</td>\n",
              "      <td>376.00</td>\n",
              "      <td>390.00</td>\n",
              "      <td>370.00</td>\n",
              "      <td>389.00</td>\n",
              "      <td>385.70</td>\n",
              "      <td>383.38</td>\n",
              "      <td>...</td>\n",
              "      <td>26.00</td>\n",
              "      <td>24.25</td>\n",
              "      <td>25.00</td>\n",
              "      <td>24.80</td>\n",
              "      <td>25.04</td>\n",
              "      <td>62600</td>\n",
              "      <td>1.567220e+11</td>\n",
              "      <td>to be find</td>\n",
              "      <td>to be find</td>\n",
              "      <td>to be find</td>\n",
              "    </tr>\n",
              "    <tr>\n",
              "      <th>...</th>\n",
              "      <td>...</td>\n",
              "      <td>...</td>\n",
              "      <td>...</td>\n",
              "      <td>...</td>\n",
              "      <td>...</td>\n",
              "      <td>...</td>\n",
              "      <td>...</td>\n",
              "      <td>...</td>\n",
              "      <td>...</td>\n",
              "      <td>...</td>\n",
              "      <td>...</td>\n",
              "      <td>...</td>\n",
              "      <td>...</td>\n",
              "      <td>...</td>\n",
              "      <td>...</td>\n",
              "      <td>...</td>\n",
              "      <td>...</td>\n",
              "      <td>...</td>\n",
              "      <td>...</td>\n",
              "      <td>...</td>\n",
              "      <td>...</td>\n",
              "    </tr>\n",
              "    <tr>\n",
              "      <th>5158</th>\n",
              "      <td>2020-09-24</td>\n",
              "      <td>ASIANPAINT</td>\n",
              "      <td>EQ</td>\n",
              "      <td>1946.55</td>\n",
              "      <td>1941.55</td>\n",
              "      <td>1945.00</td>\n",
              "      <td>1907.75</td>\n",
              "      <td>1915.00</td>\n",
              "      <td>1918.35</td>\n",
              "      <td>1925.25</td>\n",
              "      <td>...</td>\n",
              "      <td>414.30</td>\n",
              "      <td>401.15</td>\n",
              "      <td>403.75</td>\n",
              "      <td>402.45</td>\n",
              "      <td>407.29</td>\n",
              "      <td>21177325</td>\n",
              "      <td>8.625288e+14</td>\n",
              "      <td>210451</td>\n",
              "      <td>6.0013e+06</td>\n",
              "      <td>0.2834</td>\n",
              "    </tr>\n",
              "    <tr>\n",
              "      <th>5159</th>\n",
              "      <td>2020-09-25</td>\n",
              "      <td>ASIANPAINT</td>\n",
              "      <td>EQ</td>\n",
              "      <td>1918.35</td>\n",
              "      <td>1925.25</td>\n",
              "      <td>1955.00</td>\n",
              "      <td>1908.00</td>\n",
              "      <td>1924.70</td>\n",
              "      <td>1925.60</td>\n",
              "      <td>1930.25</td>\n",
              "      <td>...</td>\n",
              "      <td>416.70</td>\n",
              "      <td>400.15</td>\n",
              "      <td>413.25</td>\n",
              "      <td>415.05</td>\n",
              "      <td>408.38</td>\n",
              "      <td>20460158</td>\n",
              "      <td>8.355531e+14</td>\n",
              "      <td>189262</td>\n",
              "      <td>4.35248e+06</td>\n",
              "      <td>0.2127</td>\n",
              "    </tr>\n",
              "    <tr>\n",
              "      <th>5160</th>\n",
              "      <td>2020-09-28</td>\n",
              "      <td>ASIANPAINT</td>\n",
              "      <td>EQ</td>\n",
              "      <td>1925.60</td>\n",
              "      <td>1938.00</td>\n",
              "      <td>1958.00</td>\n",
              "      <td>1930.00</td>\n",
              "      <td>1953.00</td>\n",
              "      <td>1945.60</td>\n",
              "      <td>1944.26</td>\n",
              "      <td>...</td>\n",
              "      <td>440.60</td>\n",
              "      <td>418.05</td>\n",
              "      <td>438.05</td>\n",
              "      <td>439.25</td>\n",
              "      <td>431.97</td>\n",
              "      <td>19389041</td>\n",
              "      <td>8.375437e+14</td>\n",
              "      <td>182384</td>\n",
              "      <td>4.33061e+06</td>\n",
              "      <td>0.2234</td>\n",
              "    </tr>\n",
              "    <tr>\n",
              "      <th>5161</th>\n",
              "      <td>2020-09-29</td>\n",
              "      <td>ASIANPAINT</td>\n",
              "      <td>EQ</td>\n",
              "      <td>1945.60</td>\n",
              "      <td>1960.00</td>\n",
              "      <td>1989.95</td>\n",
              "      <td>1954.00</td>\n",
              "      <td>1961.95</td>\n",
              "      <td>1959.95</td>\n",
              "      <td>1969.39</td>\n",
              "      <td>...</td>\n",
              "      <td>443.30</td>\n",
              "      <td>424.80</td>\n",
              "      <td>427.00</td>\n",
              "      <td>426.85</td>\n",
              "      <td>430.53</td>\n",
              "      <td>19998529</td>\n",
              "      <td>8.609959e+14</td>\n",
              "      <td>190293</td>\n",
              "      <td>3.52789e+06</td>\n",
              "      <td>0.1764</td>\n",
              "    </tr>\n",
              "    <tr>\n",
              "      <th>5162</th>\n",
              "      <td>2020-09-30</td>\n",
              "      <td>ASIANPAINT</td>\n",
              "      <td>EQ</td>\n",
              "      <td>1959.95</td>\n",
              "      <td>1966.10</td>\n",
              "      <td>2004.00</td>\n",
              "      <td>1958.15</td>\n",
              "      <td>1981.60</td>\n",
              "      <td>1986.40</td>\n",
              "      <td>1986.34</td>\n",
              "      <td>...</td>\n",
              "      <td>428.10</td>\n",
              "      <td>418.75</td>\n",
              "      <td>423.85</td>\n",
              "      <td>424.65</td>\n",
              "      <td>422.61</td>\n",
              "      <td>18485383</td>\n",
              "      <td>7.812139e+14</td>\n",
              "      <td>164178</td>\n",
              "      <td>2.88719e+06</td>\n",
              "      <td>0.1562</td>\n",
              "    </tr>\n",
              "  </tbody>\n",
              "</table>\n",
              "<p>5163 rows × 29 columns</p>\n",
              "</div>"
            ],
            "text/plain": [
              "            Date    Symbol_x Series_x  Prev Close_x   Open_x   High_x  \\\n",
              "0     2000-01-03  ASIANPAINT       EQ        361.20   370.00   390.00   \n",
              "1     2000-01-04  ASIANPAINT       EQ        381.65   380.00   392.00   \n",
              "2     2000-01-05  ASIANPAINT       EQ        385.55   371.50   390.00   \n",
              "3     2000-01-06  ASIANPAINT       EQ        383.00   384.90   384.90   \n",
              "4     2000-01-07  ASIANPAINT       EQ        377.50   376.00   390.00   \n",
              "...          ...         ...      ...           ...      ...      ...   \n",
              "5158  2020-09-24  ASIANPAINT       EQ       1946.55  1941.55  1945.00   \n",
              "5159  2020-09-25  ASIANPAINT       EQ       1918.35  1925.25  1955.00   \n",
              "5160  2020-09-28  ASIANPAINT       EQ       1925.60  1938.00  1958.00   \n",
              "5161  2020-09-29  ASIANPAINT       EQ       1945.60  1960.00  1989.95   \n",
              "5162  2020-09-30  ASIANPAINT       EQ       1959.95  1966.10  2004.00   \n",
              "\n",
              "        Low_x   Last_x  Close_x   VWAP_x  ...  High_y   Low_y  Last_y Close_y  \\\n",
              "0      370.00   385.00   381.65   380.54  ...   26.70   26.70   26.70   26.70   \n",
              "1      375.00   390.00   385.55   383.50  ...   28.70   26.50   27.00   26.85   \n",
              "2      371.50   383.00   383.00   379.81  ...   27.75   25.50   26.40   26.30   \n",
              "3      374.50   375.10   377.50   379.88  ...   27.00   25.80   25.90   25.95   \n",
              "4      370.00   389.00   385.70   383.38  ...   26.00   24.25   25.00   24.80   \n",
              "...       ...      ...      ...      ...  ...     ...     ...     ...     ...   \n",
              "5158  1907.75  1915.00  1918.35  1925.25  ...  414.30  401.15  403.75  402.45   \n",
              "5159  1908.00  1924.70  1925.60  1930.25  ...  416.70  400.15  413.25  415.05   \n",
              "5160  1930.00  1953.00  1945.60  1944.26  ...  440.60  418.05  438.05  439.25   \n",
              "5161  1954.00  1961.95  1959.95  1969.39  ...  443.30  424.80  427.00  426.85   \n",
              "5162  1958.15  1981.60  1986.40  1986.34  ...  428.10  418.75  423.85  424.65   \n",
              "\n",
              "      VWAP_y  Volume_y    Turnover_y    Trades_y  Deliverable Volume_y  \\\n",
              "0      26.70    112100  2.993070e+11  to be find            to be find   \n",
              "1      27.24    234500  6.387275e+11  to be find            to be find   \n",
              "2      26.24    170100  4.462980e+11  to be find            to be find   \n",
              "3      26.27    102100  2.681730e+11  to be find            to be find   \n",
              "4      25.04     62600  1.567220e+11  to be find            to be find   \n",
              "...      ...       ...           ...         ...                   ...   \n",
              "5158  407.29  21177325  8.625288e+14      210451            6.0013e+06   \n",
              "5159  408.38  20460158  8.355531e+14      189262           4.35248e+06   \n",
              "5160  431.97  19389041  8.375437e+14      182384           4.33061e+06   \n",
              "5161  430.53  19998529  8.609959e+14      190293           3.52789e+06   \n",
              "5162  422.61  18485383  7.812139e+14      164178           2.88719e+06   \n",
              "\n",
              "      %Deliverble_y  \n",
              "0        to be find  \n",
              "1        to be find  \n",
              "2        to be find  \n",
              "3        to be find  \n",
              "4        to be find  \n",
              "...             ...  \n",
              "5158         0.2834  \n",
              "5159         0.2127  \n",
              "5160         0.2234  \n",
              "5161         0.1764  \n",
              "5162         0.1562  \n",
              "\n",
              "[5163 rows x 29 columns]"
            ]
          },
          "execution_count": 237,
          "metadata": {},
          "output_type": "execute_result"
        }
      ],
      "source": [
        "fill"
      ]
    },
    {
      "cell_type": "code",
      "execution_count": null,
      "metadata": {
        "id": "skgxN_zwSt03",
        "outputId": "c87c105c-53a4-4e8e-db54-52ba9a1e43e2"
      },
      "outputs": [
        {
          "name": "stdout",
          "output_type": "stream",
          "text": [
            "<class 'pandas.core.frame.DataFrame'>\n",
            "Int64Index: 5163 entries, 0 to 5162\n",
            "Data columns (total 29 columns):\n",
            " #   Column                Non-Null Count  Dtype  \n",
            "---  ------                --------------  -----  \n",
            " 0   Date                  5163 non-null   object \n",
            " 1   Symbol_x              5163 non-null   object \n",
            " 2   Series_x              5163 non-null   object \n",
            " 3   Prev Close_x          5163 non-null   float64\n",
            " 4   Open_x                5163 non-null   float64\n",
            " 5   High_x                5163 non-null   float64\n",
            " 6   Low_x                 5163 non-null   float64\n",
            " 7   Last_x                5163 non-null   float64\n",
            " 8   Close_x               5163 non-null   float64\n",
            " 9   VWAP_x                5163 non-null   float64\n",
            " 10  Volume_x              5163 non-null   int64  \n",
            " 11  Turnover_x            5163 non-null   float64\n",
            " 12  Trades_x              2313 non-null   float64\n",
            " 13  Deliverable Volume_x  4654 non-null   float64\n",
            " 14  %Deliverble_x         4654 non-null   float64\n",
            " 15  Symbol_y              5163 non-null   object \n",
            " 16  Series_y              5163 non-null   object \n",
            " 17  Prev Close_y          5163 non-null   float64\n",
            " 18  Open_y                5163 non-null   float64\n",
            " 19  High_y                5163 non-null   float64\n",
            " 20  Low_y                 5163 non-null   float64\n",
            " 21  Last_y                5163 non-null   float64\n",
            " 22  Close_y               5163 non-null   float64\n",
            " 23  VWAP_y                5163 non-null   float64\n",
            " 24  Volume_y              5163 non-null   int64  \n",
            " 25  Turnover_y            5163 non-null   float64\n",
            " 26  Trades_y              2313 non-null   float64\n",
            " 27  Deliverable Volume_y  4654 non-null   float64\n",
            " 28  %Deliverble_y         4654 non-null   float64\n",
            "dtypes: float64(22), int64(2), object(5)\n",
            "memory usage: 1.2+ MB\n"
          ]
        }
      ],
      "source": [
        "merged_df.info()"
      ]
    },
    {
      "cell_type": "code",
      "execution_count": null,
      "metadata": {
        "id": "pPlIeuzaSt04",
        "outputId": "a16f38bd-9534-4713-f662-7ca55a512753"
      },
      "outputs": [
        {
          "data": {
            "text/html": [
              "<div>\n",
              "<style scoped>\n",
              "    .dataframe tbody tr th:only-of-type {\n",
              "        vertical-align: middle;\n",
              "    }\n",
              "\n",
              "    .dataframe tbody tr th {\n",
              "        vertical-align: top;\n",
              "    }\n",
              "\n",
              "    .dataframe thead th {\n",
              "        text-align: right;\n",
              "    }\n",
              "</style>\n",
              "<table border=\"1\" class=\"dataframe\">\n",
              "  <thead>\n",
              "    <tr style=\"text-align: right;\">\n",
              "      <th></th>\n",
              "      <th>Date</th>\n",
              "      <th>Symbol_x</th>\n",
              "      <th>Series_x</th>\n",
              "      <th>Prev Close_x</th>\n",
              "      <th>Open_x</th>\n",
              "      <th>High_x</th>\n",
              "      <th>Low_x</th>\n",
              "      <th>Last_x</th>\n",
              "      <th>Close_x</th>\n",
              "      <th>VWAP_x</th>\n",
              "      <th>...</th>\n",
              "      <th>High_y</th>\n",
              "      <th>Low_y</th>\n",
              "      <th>Last_y</th>\n",
              "      <th>Close_y</th>\n",
              "      <th>VWAP_y</th>\n",
              "      <th>Volume_y</th>\n",
              "      <th>Turnover_y</th>\n",
              "      <th>Trades_y</th>\n",
              "      <th>Deliverable Volume_y</th>\n",
              "      <th>%Deliverble_y</th>\n",
              "    </tr>\n",
              "  </thead>\n",
              "  <tbody>\n",
              "    <tr>\n",
              "      <th>4693</th>\n",
              "      <td>2018-11-07</td>\n",
              "      <td>ASIANPAINT</td>\n",
              "      <td>EQ</td>\n",
              "      <td>1238.50</td>\n",
              "      <td>1250.00</td>\n",
              "      <td>1254.00</td>\n",
              "      <td>1239.20</td>\n",
              "      <td>1252.00</td>\n",
              "      <td>1250.95</td>\n",
              "      <td>1249.75</td>\n",
              "      <td>...</td>\n",
              "      <td>612.90</td>\n",
              "      <td>604.65</td>\n",
              "      <td>605.00</td>\n",
              "      <td>606.85</td>\n",
              "      <td>608.41</td>\n",
              "      <td>1528117</td>\n",
              "      <td>9.297228e+13</td>\n",
              "      <td>23863.0</td>\n",
              "      <td>368965.0</td>\n",
              "      <td>0.2415</td>\n",
              "    </tr>\n",
              "    <tr>\n",
              "      <th>1786</th>\n",
              "      <td>2007-02-13</td>\n",
              "      <td>ASIANPAINT</td>\n",
              "      <td>EQ</td>\n",
              "      <td>786.90</td>\n",
              "      <td>750.00</td>\n",
              "      <td>788.45</td>\n",
              "      <td>742.00</td>\n",
              "      <td>785.00</td>\n",
              "      <td>784.50</td>\n",
              "      <td>781.96</td>\n",
              "      <td>...</td>\n",
              "      <td>553.00</td>\n",
              "      <td>498.60</td>\n",
              "      <td>523.10</td>\n",
              "      <td>518.00</td>\n",
              "      <td>532.67</td>\n",
              "      <td>1152239</td>\n",
              "      <td>6.137636e+13</td>\n",
              "      <td>NaN</td>\n",
              "      <td>615102.0</td>\n",
              "      <td>0.5338</td>\n",
              "    </tr>\n",
              "    <tr>\n",
              "      <th>709</th>\n",
              "      <td>2002-11-01</td>\n",
              "      <td>ASIANPAINT</td>\n",
              "      <td>EQ</td>\n",
              "      <td>328.45</td>\n",
              "      <td>330.00</td>\n",
              "      <td>330.00</td>\n",
              "      <td>320.00</td>\n",
              "      <td>329.00</td>\n",
              "      <td>323.20</td>\n",
              "      <td>324.32</td>\n",
              "      <td>...</td>\n",
              "      <td>36.60</td>\n",
              "      <td>35.85</td>\n",
              "      <td>36.20</td>\n",
              "      <td>36.10</td>\n",
              "      <td>36.31</td>\n",
              "      <td>22451</td>\n",
              "      <td>8.151274e+10</td>\n",
              "      <td>NaN</td>\n",
              "      <td>NaN</td>\n",
              "      <td>NaN</td>\n",
              "    </tr>\n",
              "    <tr>\n",
              "      <th>1943</th>\n",
              "      <td>2007-09-28</td>\n",
              "      <td>ASIANPAINT</td>\n",
              "      <td>EQ</td>\n",
              "      <td>956.45</td>\n",
              "      <td>975.00</td>\n",
              "      <td>999.00</td>\n",
              "      <td>951.55</td>\n",
              "      <td>998.00</td>\n",
              "      <td>988.35</td>\n",
              "      <td>970.39</td>\n",
              "      <td>...</td>\n",
              "      <td>775.00</td>\n",
              "      <td>752.65</td>\n",
              "      <td>764.00</td>\n",
              "      <td>764.60</td>\n",
              "      <td>763.67</td>\n",
              "      <td>975475</td>\n",
              "      <td>7.449390e+13</td>\n",
              "      <td>NaN</td>\n",
              "      <td>740952.0</td>\n",
              "      <td>0.7596</td>\n",
              "    </tr>\n",
              "    <tr>\n",
              "      <th>3437</th>\n",
              "      <td>2013-10-07</td>\n",
              "      <td>ASIANPAINT</td>\n",
              "      <td>EQ</td>\n",
              "      <td>467.10</td>\n",
              "      <td>469.80</td>\n",
              "      <td>469.80</td>\n",
              "      <td>456.20</td>\n",
              "      <td>465.00</td>\n",
              "      <td>463.50</td>\n",
              "      <td>461.78</td>\n",
              "      <td>...</td>\n",
              "      <td>1088.90</td>\n",
              "      <td>1044.00</td>\n",
              "      <td>1071.00</td>\n",
              "      <td>1071.85</td>\n",
              "      <td>1060.76</td>\n",
              "      <td>3920380</td>\n",
              "      <td>4.158584e+14</td>\n",
              "      <td>84744.0</td>\n",
              "      <td>1834590.0</td>\n",
              "      <td>0.4680</td>\n",
              "    </tr>\n",
              "    <tr>\n",
              "      <th>4631</th>\n",
              "      <td>2018-08-03</td>\n",
              "      <td>ASIANPAINT</td>\n",
              "      <td>EQ</td>\n",
              "      <td>1418.40</td>\n",
              "      <td>1424.00</td>\n",
              "      <td>1426.25</td>\n",
              "      <td>1407.00</td>\n",
              "      <td>1413.00</td>\n",
              "      <td>1411.85</td>\n",
              "      <td>1412.35</td>\n",
              "      <td>...</td>\n",
              "      <td>578.55</td>\n",
              "      <td>545.75</td>\n",
              "      <td>575.50</td>\n",
              "      <td>574.75</td>\n",
              "      <td>564.49</td>\n",
              "      <td>15953749</td>\n",
              "      <td>9.005780e+14</td>\n",
              "      <td>168418.0</td>\n",
              "      <td>6102237.0</td>\n",
              "      <td>0.3825</td>\n",
              "    </tr>\n",
              "    <tr>\n",
              "      <th>2433</th>\n",
              "      <td>2009-09-29</td>\n",
              "      <td>ASIANPAINT</td>\n",
              "      <td>EQ</td>\n",
              "      <td>1379.35</td>\n",
              "      <td>1389.90</td>\n",
              "      <td>1424.00</td>\n",
              "      <td>1380.00</td>\n",
              "      <td>1388.25</td>\n",
              "      <td>1396.15</td>\n",
              "      <td>1408.04</td>\n",
              "      <td>...</td>\n",
              "      <td>929.70</td>\n",
              "      <td>916.00</td>\n",
              "      <td>928.00</td>\n",
              "      <td>926.30</td>\n",
              "      <td>922.98</td>\n",
              "      <td>2001189</td>\n",
              "      <td>1.847061e+14</td>\n",
              "      <td>NaN</td>\n",
              "      <td>1376376.0</td>\n",
              "      <td>0.6878</td>\n",
              "    </tr>\n",
              "    <tr>\n",
              "      <th>4483</th>\n",
              "      <td>2018-01-01</td>\n",
              "      <td>ASIANPAINT</td>\n",
              "      <td>EQ</td>\n",
              "      <td>1158.50</td>\n",
              "      <td>1163.00</td>\n",
              "      <td>1165.00</td>\n",
              "      <td>1138.10</td>\n",
              "      <td>1145.00</td>\n",
              "      <td>1143.65</td>\n",
              "      <td>1151.85</td>\n",
              "      <td>...</td>\n",
              "      <td>569.80</td>\n",
              "      <td>560.50</td>\n",
              "      <td>562.95</td>\n",
              "      <td>565.50</td>\n",
              "      <td>565.45</td>\n",
              "      <td>6943234</td>\n",
              "      <td>3.926021e+14</td>\n",
              "      <td>60203.0</td>\n",
              "      <td>4295836.0</td>\n",
              "      <td>0.6187</td>\n",
              "    </tr>\n",
              "    <tr>\n",
              "      <th>681</th>\n",
              "      <td>2002-09-20</td>\n",
              "      <td>ASIANPAINT</td>\n",
              "      <td>EQ</td>\n",
              "      <td>345.35</td>\n",
              "      <td>360.00</td>\n",
              "      <td>360.00</td>\n",
              "      <td>341.10</td>\n",
              "      <td>342.50</td>\n",
              "      <td>342.10</td>\n",
              "      <td>343.23</td>\n",
              "      <td>...</td>\n",
              "      <td>35.50</td>\n",
              "      <td>34.05</td>\n",
              "      <td>35.50</td>\n",
              "      <td>35.40</td>\n",
              "      <td>35.13</td>\n",
              "      <td>70916</td>\n",
              "      <td>2.491437e+11</td>\n",
              "      <td>NaN</td>\n",
              "      <td>63573.0</td>\n",
              "      <td>0.8965</td>\n",
              "    </tr>\n",
              "    <tr>\n",
              "      <th>2060</th>\n",
              "      <td>2008-03-17</td>\n",
              "      <td>ASIANPAINT</td>\n",
              "      <td>EQ</td>\n",
              "      <td>1140.80</td>\n",
              "      <td>1105.00</td>\n",
              "      <td>1140.00</td>\n",
              "      <td>1052.00</td>\n",
              "      <td>1110.00</td>\n",
              "      <td>1105.75</td>\n",
              "      <td>1112.56</td>\n",
              "      <td>...</td>\n",
              "      <td>841.00</td>\n",
              "      <td>778.50</td>\n",
              "      <td>800.00</td>\n",
              "      <td>793.80</td>\n",
              "      <td>795.54</td>\n",
              "      <td>1108876</td>\n",
              "      <td>8.821540e+13</td>\n",
              "      <td>NaN</td>\n",
              "      <td>676307.0</td>\n",
              "      <td>0.6099</td>\n",
              "    </tr>\n",
              "    <tr>\n",
              "      <th>2776</th>\n",
              "      <td>2011-02-11</td>\n",
              "      <td>ASIANPAINT</td>\n",
              "      <td>EQ</td>\n",
              "      <td>2483.75</td>\n",
              "      <td>2499.35</td>\n",
              "      <td>2521.05</td>\n",
              "      <td>2456.00</td>\n",
              "      <td>2496.00</td>\n",
              "      <td>2498.55</td>\n",
              "      <td>2491.21</td>\n",
              "      <td>...</td>\n",
              "      <td>1229.70</td>\n",
              "      <td>1163.15</td>\n",
              "      <td>1226.00</td>\n",
              "      <td>1221.70</td>\n",
              "      <td>1192.87</td>\n",
              "      <td>1441279</td>\n",
              "      <td>1.719253e+14</td>\n",
              "      <td>NaN</td>\n",
              "      <td>566478.0</td>\n",
              "      <td>0.3930</td>\n",
              "    </tr>\n",
              "    <tr>\n",
              "      <th>3799</th>\n",
              "      <td>2015-03-27</td>\n",
              "      <td>ASIANPAINT</td>\n",
              "      <td>EQ</td>\n",
              "      <td>793.10</td>\n",
              "      <td>793.00</td>\n",
              "      <td>793.00</td>\n",
              "      <td>768.10</td>\n",
              "      <td>780.15</td>\n",
              "      <td>778.15</td>\n",
              "      <td>777.31</td>\n",
              "      <td>...</td>\n",
              "      <td>551.25</td>\n",
              "      <td>526.10</td>\n",
              "      <td>546.95</td>\n",
              "      <td>546.40</td>\n",
              "      <td>539.98</td>\n",
              "      <td>10655577</td>\n",
              "      <td>5.753761e+14</td>\n",
              "      <td>154971.0</td>\n",
              "      <td>4747945.0</td>\n",
              "      <td>0.4456</td>\n",
              "    </tr>\n",
              "    <tr>\n",
              "      <th>1763</th>\n",
              "      <td>2007-01-09</td>\n",
              "      <td>ASIANPAINT</td>\n",
              "      <td>EQ</td>\n",
              "      <td>728.75</td>\n",
              "      <td>725.00</td>\n",
              "      <td>738.45</td>\n",
              "      <td>720.00</td>\n",
              "      <td>720.00</td>\n",
              "      <td>720.05</td>\n",
              "      <td>721.88</td>\n",
              "      <td>...</td>\n",
              "      <td>475.00</td>\n",
              "      <td>460.05</td>\n",
              "      <td>468.00</td>\n",
              "      <td>467.25</td>\n",
              "      <td>466.81</td>\n",
              "      <td>1086719</td>\n",
              "      <td>5.072957e+13</td>\n",
              "      <td>NaN</td>\n",
              "      <td>642893.0</td>\n",
              "      <td>0.5916</td>\n",
              "    </tr>\n",
              "    <tr>\n",
              "      <th>1033</th>\n",
              "      <td>2004-02-16</td>\n",
              "      <td>ASIANPAINT</td>\n",
              "      <td>EQ</td>\n",
              "      <td>320.10</td>\n",
              "      <td>321.00</td>\n",
              "      <td>325.00</td>\n",
              "      <td>320.00</td>\n",
              "      <td>320.05</td>\n",
              "      <td>320.55</td>\n",
              "      <td>322.55</td>\n",
              "      <td>...</td>\n",
              "      <td>153.90</td>\n",
              "      <td>150.05</td>\n",
              "      <td>151.00</td>\n",
              "      <td>150.85</td>\n",
              "      <td>151.94</td>\n",
              "      <td>189638</td>\n",
              "      <td>2.881288e+12</td>\n",
              "      <td>NaN</td>\n",
              "      <td>62486.0</td>\n",
              "      <td>0.3295</td>\n",
              "    </tr>\n",
              "    <tr>\n",
              "      <th>121</th>\n",
              "      <td>2000-06-28</td>\n",
              "      <td>ASIANPAINT</td>\n",
              "      <td>EQ</td>\n",
              "      <td>400.05</td>\n",
              "      <td>399.10</td>\n",
              "      <td>404.95</td>\n",
              "      <td>399.00</td>\n",
              "      <td>403.05</td>\n",
              "      <td>403.80</td>\n",
              "      <td>403.01</td>\n",
              "      <td>...</td>\n",
              "      <td>33.40</td>\n",
              "      <td>32.50</td>\n",
              "      <td>33.00</td>\n",
              "      <td>33.00</td>\n",
              "      <td>32.90</td>\n",
              "      <td>13170</td>\n",
              "      <td>4.333155e+10</td>\n",
              "      <td>NaN</td>\n",
              "      <td>NaN</td>\n",
              "      <td>NaN</td>\n",
              "    </tr>\n",
              "  </tbody>\n",
              "</table>\n",
              "<p>15 rows × 29 columns</p>\n",
              "</div>"
            ],
            "text/plain": [
              "            Date    Symbol_x Series_x  Prev Close_x   Open_x   High_x  \\\n",
              "4693  2018-11-07  ASIANPAINT       EQ       1238.50  1250.00  1254.00   \n",
              "1786  2007-02-13  ASIANPAINT       EQ        786.90   750.00   788.45   \n",
              "709   2002-11-01  ASIANPAINT       EQ        328.45   330.00   330.00   \n",
              "1943  2007-09-28  ASIANPAINT       EQ        956.45   975.00   999.00   \n",
              "3437  2013-10-07  ASIANPAINT       EQ        467.10   469.80   469.80   \n",
              "4631  2018-08-03  ASIANPAINT       EQ       1418.40  1424.00  1426.25   \n",
              "2433  2009-09-29  ASIANPAINT       EQ       1379.35  1389.90  1424.00   \n",
              "4483  2018-01-01  ASIANPAINT       EQ       1158.50  1163.00  1165.00   \n",
              "681   2002-09-20  ASIANPAINT       EQ        345.35   360.00   360.00   \n",
              "2060  2008-03-17  ASIANPAINT       EQ       1140.80  1105.00  1140.00   \n",
              "2776  2011-02-11  ASIANPAINT       EQ       2483.75  2499.35  2521.05   \n",
              "3799  2015-03-27  ASIANPAINT       EQ        793.10   793.00   793.00   \n",
              "1763  2007-01-09  ASIANPAINT       EQ        728.75   725.00   738.45   \n",
              "1033  2004-02-16  ASIANPAINT       EQ        320.10   321.00   325.00   \n",
              "121   2000-06-28  ASIANPAINT       EQ        400.05   399.10   404.95   \n",
              "\n",
              "        Low_x   Last_x  Close_x   VWAP_x  ...   High_y    Low_y   Last_y  \\\n",
              "4693  1239.20  1252.00  1250.95  1249.75  ...   612.90   604.65   605.00   \n",
              "1786   742.00   785.00   784.50   781.96  ...   553.00   498.60   523.10   \n",
              "709    320.00   329.00   323.20   324.32  ...    36.60    35.85    36.20   \n",
              "1943   951.55   998.00   988.35   970.39  ...   775.00   752.65   764.00   \n",
              "3437   456.20   465.00   463.50   461.78  ...  1088.90  1044.00  1071.00   \n",
              "4631  1407.00  1413.00  1411.85  1412.35  ...   578.55   545.75   575.50   \n",
              "2433  1380.00  1388.25  1396.15  1408.04  ...   929.70   916.00   928.00   \n",
              "4483  1138.10  1145.00  1143.65  1151.85  ...   569.80   560.50   562.95   \n",
              "681    341.10   342.50   342.10   343.23  ...    35.50    34.05    35.50   \n",
              "2060  1052.00  1110.00  1105.75  1112.56  ...   841.00   778.50   800.00   \n",
              "2776  2456.00  2496.00  2498.55  2491.21  ...  1229.70  1163.15  1226.00   \n",
              "3799   768.10   780.15   778.15   777.31  ...   551.25   526.10   546.95   \n",
              "1763   720.00   720.00   720.05   721.88  ...   475.00   460.05   468.00   \n",
              "1033   320.00   320.05   320.55   322.55  ...   153.90   150.05   151.00   \n",
              "121    399.00   403.05   403.80   403.01  ...    33.40    32.50    33.00   \n",
              "\n",
              "      Close_y   VWAP_y  Volume_y    Turnover_y  Trades_y  \\\n",
              "4693   606.85   608.41   1528117  9.297228e+13   23863.0   \n",
              "1786   518.00   532.67   1152239  6.137636e+13       NaN   \n",
              "709     36.10    36.31     22451  8.151274e+10       NaN   \n",
              "1943   764.60   763.67    975475  7.449390e+13       NaN   \n",
              "3437  1071.85  1060.76   3920380  4.158584e+14   84744.0   \n",
              "4631   574.75   564.49  15953749  9.005780e+14  168418.0   \n",
              "2433   926.30   922.98   2001189  1.847061e+14       NaN   \n",
              "4483   565.50   565.45   6943234  3.926021e+14   60203.0   \n",
              "681     35.40    35.13     70916  2.491437e+11       NaN   \n",
              "2060   793.80   795.54   1108876  8.821540e+13       NaN   \n",
              "2776  1221.70  1192.87   1441279  1.719253e+14       NaN   \n",
              "3799   546.40   539.98  10655577  5.753761e+14  154971.0   \n",
              "1763   467.25   466.81   1086719  5.072957e+13       NaN   \n",
              "1033   150.85   151.94    189638  2.881288e+12       NaN   \n",
              "121     33.00    32.90     13170  4.333155e+10       NaN   \n",
              "\n",
              "      Deliverable Volume_y  %Deliverble_y  \n",
              "4693              368965.0         0.2415  \n",
              "1786              615102.0         0.5338  \n",
              "709                    NaN            NaN  \n",
              "1943              740952.0         0.7596  \n",
              "3437             1834590.0         0.4680  \n",
              "4631             6102237.0         0.3825  \n",
              "2433             1376376.0         0.6878  \n",
              "4483             4295836.0         0.6187  \n",
              "681                63573.0         0.8965  \n",
              "2060              676307.0         0.6099  \n",
              "2776              566478.0         0.3930  \n",
              "3799             4747945.0         0.4456  \n",
              "1763              642893.0         0.5916  \n",
              "1033               62486.0         0.3295  \n",
              "121                    NaN            NaN  \n",
              "\n",
              "[15 rows x 29 columns]"
            ]
          },
          "execution_count": 239,
          "metadata": {},
          "output_type": "execute_result"
        }
      ],
      "source": [
        "sample_df=merged_df.sample(15)\n",
        "sample_df"
      ]
    },
    {
      "cell_type": "code",
      "execution_count": null,
      "metadata": {
        "id": "2aitR2ArSt04"
      },
      "outputs": [],
      "source": [
        "import jovian"
      ]
    },
    {
      "cell_type": "code",
      "execution_count": null,
      "metadata": {
        "id": "fLJiOQJ0St04",
        "outputId": "2a7e799b-0643-4432-a621-4bb90b9130cb"
      },
      "outputs": [
        {
          "data": {
            "application/javascript": [
              "window.require && require([\"base/js/namespace\"],function(Jupyter){Jupyter.notebook.save_checkpoint()})"
            ],
            "text/plain": [
              "<IPython.core.display.Javascript object>"
            ]
          },
          "metadata": {},
          "output_type": "display_data"
        },
        {
          "name": "stdout",
          "output_type": "stream",
          "text": [
            "[jovian] Attempting to save notebook..\u001b[0m\n",
            "[jovian] Updating notebook \"nidhiscity/nifty50-project\" on https://jovian.ml/\u001b[0m\n",
            "[jovian] Uploading notebook..\u001b[0m\n",
            "[jovian] Capturing environment..\u001b[0m\n",
            "[jovian] Committed successfully! https://jovian.ml/nidhiscity/nifty50-project\u001b[0m\n"
          ]
        },
        {
          "data": {
            "text/plain": [
              "'https://jovian.ml/nidhiscity/nifty50-project'"
            ]
          },
          "execution_count": 241,
          "metadata": {},
          "output_type": "execute_result"
        }
      ],
      "source": [
        "jovian.commit()"
      ]
    },
    {
      "cell_type": "markdown",
      "metadata": {
        "id": "8fkLMJtWSt04"
      },
      "source": [
        "## Exploratory Analysis and Visualization\n",
        "\n",
        "### For better understanding let create some graphs and do some other coding fro finding the statistics details like mean,sum,range. And finding relationships between columns.\n",
        "Need to import matplotlib.pyplot and seaborn for importing graps in jupyter .\n"
      ]
    },
    {
      "cell_type": "markdown",
      "metadata": {
        "id": "Jh9UqKzDSt09"
      },
      "source": [
        "Let's begin by importing`matplotlib.pyplot` and `seaborn`."
      ]
    },
    {
      "cell_type": "code",
      "execution_count": null,
      "metadata": {
        "id": "sWk7jNIqSt09"
      },
      "outputs": [],
      "source": [
        "import seaborn as sns\n",
        "import matplotlib\n",
        "import matplotlib.pyplot as plt\n",
        "%matplotlib inline\n",
        "\n",
        "sns.set_style('darkgrid')\n",
        "matplotlib.rcParams['font.size'] = 14\n",
        "matplotlib.rcParams['figure.figsize'] = (9, 5)\n",
        "matplotlib.rcParams['figure.facecolor'] = '#00000000'"
      ]
    },
    {
      "cell_type": "markdown",
      "metadata": {
        "id": "-Paqi5JnSt09"
      },
      "source": [
        "#### Lets find number of unique data and further statistical details of data."
      ]
    },
    {
      "cell_type": "code",
      "execution_count": null,
      "metadata": {
        "id": "XLBx8xZ4St0-",
        "outputId": "0a1211ba-493d-4093-83a9-cde7b6e78205"
      },
      "outputs": [
        {
          "data": {
            "text/plain": [
              "5163"
            ]
          },
          "execution_count": 244,
          "metadata": {},
          "output_type": "execute_result"
        }
      ],
      "source": [
        "merged_df.Date.nunique()"
      ]
    },
    {
      "cell_type": "code",
      "execution_count": null,
      "metadata": {
        "id": "QrWkGuahSt0-",
        "outputId": "85e0ebcd-b49f-4cf3-ba66-52e6d6abb282"
      },
      "outputs": [
        {
          "data": {
            "text/html": [
              "<div>\n",
              "<style scoped>\n",
              "    .dataframe tbody tr th:only-of-type {\n",
              "        vertical-align: middle;\n",
              "    }\n",
              "\n",
              "    .dataframe tbody tr th {\n",
              "        vertical-align: top;\n",
              "    }\n",
              "\n",
              "    .dataframe thead th {\n",
              "        text-align: right;\n",
              "    }\n",
              "</style>\n",
              "<table border=\"1\" class=\"dataframe\">\n",
              "  <thead>\n",
              "    <tr style=\"text-align: right;\">\n",
              "      <th></th>\n",
              "      <th>Prev Close_x</th>\n",
              "      <th>Open_x</th>\n",
              "      <th>High_x</th>\n",
              "      <th>Low_x</th>\n",
              "      <th>Last_x</th>\n",
              "      <th>Close_x</th>\n",
              "      <th>VWAP_x</th>\n",
              "      <th>Volume_x</th>\n",
              "      <th>Turnover_x</th>\n",
              "      <th>Trades_x</th>\n",
              "      <th>...</th>\n",
              "      <th>High_y</th>\n",
              "      <th>Low_y</th>\n",
              "      <th>Last_y</th>\n",
              "      <th>Close_y</th>\n",
              "      <th>VWAP_y</th>\n",
              "      <th>Volume_y</th>\n",
              "      <th>Turnover_y</th>\n",
              "      <th>Trades_y</th>\n",
              "      <th>Deliverable Volume_y</th>\n",
              "      <th>%Deliverble_y</th>\n",
              "    </tr>\n",
              "  </thead>\n",
              "  <tbody>\n",
              "    <tr>\n",
              "      <th>count</th>\n",
              "      <td>5163.000000</td>\n",
              "      <td>5163.000000</td>\n",
              "      <td>5163.000000</td>\n",
              "      <td>5163.000000</td>\n",
              "      <td>5163.000000</td>\n",
              "      <td>5163.000000</td>\n",
              "      <td>5163.000000</td>\n",
              "      <td>5.163000e+03</td>\n",
              "      <td>5.163000e+03</td>\n",
              "      <td>2313.000000</td>\n",
              "      <td>...</td>\n",
              "      <td>5163.000000</td>\n",
              "      <td>5163.000000</td>\n",
              "      <td>5163.000000</td>\n",
              "      <td>5163.000000</td>\n",
              "      <td>5163.000000</td>\n",
              "      <td>5.163000e+03</td>\n",
              "      <td>5.163000e+03</td>\n",
              "      <td>2313.000000</td>\n",
              "      <td>4.654000e+03</td>\n",
              "      <td>4654.000000</td>\n",
              "    </tr>\n",
              "    <tr>\n",
              "      <th>mean</th>\n",
              "      <td>1214.668478</td>\n",
              "      <td>1215.207534</td>\n",
              "      <td>1231.780738</td>\n",
              "      <td>1198.863597</td>\n",
              "      <td>1214.879150</td>\n",
              "      <td>1214.983256</td>\n",
              "      <td>1215.394449</td>\n",
              "      <td>4.589075e+05</td>\n",
              "      <td>5.575506e+13</td>\n",
              "      <td>37714.255512</td>\n",
              "      <td>...</td>\n",
              "      <td>594.983876</td>\n",
              "      <td>574.105462</td>\n",
              "      <td>584.396756</td>\n",
              "      <td>584.385551</td>\n",
              "      <td>584.589777</td>\n",
              "      <td>4.081507e+06</td>\n",
              "      <td>2.454980e+14</td>\n",
              "      <td>113458.587981</td>\n",
              "      <td>1.856591e+06</td>\n",
              "      <td>0.471829</td>\n",
              "    </tr>\n",
              "    <tr>\n",
              "      <th>std</th>\n",
              "      <td>1070.643149</td>\n",
              "      <td>1070.097641</td>\n",
              "      <td>1083.306674</td>\n",
              "      <td>1058.869398</td>\n",
              "      <td>1070.574501</td>\n",
              "      <td>1070.631085</td>\n",
              "      <td>1071.259042</td>\n",
              "      <td>7.793921e+05</td>\n",
              "      <td>1.088224e+14</td>\n",
              "      <td>32785.441278</td>\n",
              "      <td>...</td>\n",
              "      <td>448.796503</td>\n",
              "      <td>435.690921</td>\n",
              "      <td>442.275888</td>\n",
              "      <td>442.317705</td>\n",
              "      <td>442.280215</td>\n",
              "      <td>7.593684e+06</td>\n",
              "      <td>3.674935e+14</td>\n",
              "      <td>91942.682909</td>\n",
              "      <td>3.172722e+06</td>\n",
              "      <td>0.161319</td>\n",
              "    </tr>\n",
              "    <tr>\n",
              "      <th>min</th>\n",
              "      <td>210.750000</td>\n",
              "      <td>210.000000</td>\n",
              "      <td>215.750000</td>\n",
              "      <td>204.000000</td>\n",
              "      <td>210.600000</td>\n",
              "      <td>210.750000</td>\n",
              "      <td>212.220000</td>\n",
              "      <td>2.500000e+01</td>\n",
              "      <td>1.278415e+09</td>\n",
              "      <td>70.000000</td>\n",
              "      <td>...</td>\n",
              "      <td>23.700000</td>\n",
              "      <td>21.000000</td>\n",
              "      <td>22.150000</td>\n",
              "      <td>22.150000</td>\n",
              "      <td>22.170000</td>\n",
              "      <td>2.850000e+03</td>\n",
              "      <td>8.275250e+09</td>\n",
              "      <td>2698.000000</td>\n",
              "      <td>5.809000e+03</td>\n",
              "      <td>0.075000</td>\n",
              "    </tr>\n",
              "    <tr>\n",
              "      <th>25%</th>\n",
              "      <td>407.325000</td>\n",
              "      <td>408.100000</td>\n",
              "      <td>415.000000</td>\n",
              "      <td>401.000000</td>\n",
              "      <td>408.725000</td>\n",
              "      <td>407.725000</td>\n",
              "      <td>407.950000</td>\n",
              "      <td>1.313400e+04</td>\n",
              "      <td>7.225800e+11</td>\n",
              "      <td>14842.000000</td>\n",
              "      <td>...</td>\n",
              "      <td>228.000000</td>\n",
              "      <td>220.000000</td>\n",
              "      <td>223.800000</td>\n",
              "      <td>224.675000</td>\n",
              "      <td>224.695000</td>\n",
              "      <td>2.681605e+05</td>\n",
              "      <td>5.083152e+12</td>\n",
              "      <td>60635.000000</td>\n",
              "      <td>2.451685e+05</td>\n",
              "      <td>0.355700</td>\n",
              "    </tr>\n",
              "    <tr>\n",
              "      <th>50%</th>\n",
              "      <td>874.900000</td>\n",
              "      <td>874.400000</td>\n",
              "      <td>886.250000</td>\n",
              "      <td>864.000000</td>\n",
              "      <td>875.000000</td>\n",
              "      <td>875.250000</td>\n",
              "      <td>874.510000</td>\n",
              "      <td>5.301300e+04</td>\n",
              "      <td>9.025659e+12</td>\n",
              "      <td>30542.000000</td>\n",
              "      <td>...</td>\n",
              "      <td>521.950000</td>\n",
              "      <td>507.300000</td>\n",
              "      <td>514.050000</td>\n",
              "      <td>514.200000</td>\n",
              "      <td>515.150000</td>\n",
              "      <td>1.547763e+06</td>\n",
              "      <td>1.578281e+14</td>\n",
              "      <td>88947.000000</td>\n",
              "      <td>7.321515e+05</td>\n",
              "      <td>0.465700</td>\n",
              "    </tr>\n",
              "    <tr>\n",
              "      <th>75%</th>\n",
              "      <td>1432.875000</td>\n",
              "      <td>1437.100000</td>\n",
              "      <td>1454.950000</td>\n",
              "      <td>1423.575000</td>\n",
              "      <td>1435.125000</td>\n",
              "      <td>1433.525000</td>\n",
              "      <td>1438.940000</td>\n",
              "      <td>7.429405e+05</td>\n",
              "      <td>7.029280e+13</td>\n",
              "      <td>50354.000000</td>\n",
              "      <td>...</td>\n",
              "      <td>925.975000</td>\n",
              "      <td>891.325000</td>\n",
              "      <td>907.300000</td>\n",
              "      <td>909.150000</td>\n",
              "      <td>910.790000</td>\n",
              "      <td>4.985988e+06</td>\n",
              "      <td>3.272911e+14</td>\n",
              "      <td>134676.000000</td>\n",
              "      <td>2.390289e+06</td>\n",
              "      <td>0.578000</td>\n",
              "    </tr>\n",
              "    <tr>\n",
              "      <th>max</th>\n",
              "      <td>5213.100000</td>\n",
              "      <td>5221.100000</td>\n",
              "      <td>5247.750000</td>\n",
              "      <td>5150.050000</td>\n",
              "      <td>5221.100000</td>\n",
              "      <td>5213.100000</td>\n",
              "      <td>5175.790000</td>\n",
              "      <td>1.154594e+07</td>\n",
              "      <td>2.041398e+15</td>\n",
              "      <td>351347.000000</td>\n",
              "      <td>...</td>\n",
              "      <td>2043.050000</td>\n",
              "      <td>2002.600000</td>\n",
              "      <td>2022.550000</td>\n",
              "      <td>2023.350000</td>\n",
              "      <td>2020.310000</td>\n",
              "      <td>1.205419e+08</td>\n",
              "      <td>7.179550e+15</td>\n",
              "      <td>990737.000000</td>\n",
              "      <td>9.490116e+07</td>\n",
              "      <td>0.983000</td>\n",
              "    </tr>\n",
              "  </tbody>\n",
              "</table>\n",
              "<p>8 rows × 24 columns</p>\n",
              "</div>"
            ],
            "text/plain": [
              "       Prev Close_x       Open_x       High_x        Low_x       Last_x  \\\n",
              "count   5163.000000  5163.000000  5163.000000  5163.000000  5163.000000   \n",
              "mean    1214.668478  1215.207534  1231.780738  1198.863597  1214.879150   \n",
              "std     1070.643149  1070.097641  1083.306674  1058.869398  1070.574501   \n",
              "min      210.750000   210.000000   215.750000   204.000000   210.600000   \n",
              "25%      407.325000   408.100000   415.000000   401.000000   408.725000   \n",
              "50%      874.900000   874.400000   886.250000   864.000000   875.000000   \n",
              "75%     1432.875000  1437.100000  1454.950000  1423.575000  1435.125000   \n",
              "max     5213.100000  5221.100000  5247.750000  5150.050000  5221.100000   \n",
              "\n",
              "           Close_x       VWAP_x      Volume_x    Turnover_x       Trades_x  \\\n",
              "count  5163.000000  5163.000000  5.163000e+03  5.163000e+03    2313.000000   \n",
              "mean   1214.983256  1215.394449  4.589075e+05  5.575506e+13   37714.255512   \n",
              "std    1070.631085  1071.259042  7.793921e+05  1.088224e+14   32785.441278   \n",
              "min     210.750000   212.220000  2.500000e+01  1.278415e+09      70.000000   \n",
              "25%     407.725000   407.950000  1.313400e+04  7.225800e+11   14842.000000   \n",
              "50%     875.250000   874.510000  5.301300e+04  9.025659e+12   30542.000000   \n",
              "75%    1433.525000  1438.940000  7.429405e+05  7.029280e+13   50354.000000   \n",
              "max    5213.100000  5175.790000  1.154594e+07  2.041398e+15  351347.000000   \n",
              "\n",
              "       ...       High_y        Low_y       Last_y      Close_y       VWAP_y  \\\n",
              "count  ...  5163.000000  5163.000000  5163.000000  5163.000000  5163.000000   \n",
              "mean   ...   594.983876   574.105462   584.396756   584.385551   584.589777   \n",
              "std    ...   448.796503   435.690921   442.275888   442.317705   442.280215   \n",
              "min    ...    23.700000    21.000000    22.150000    22.150000    22.170000   \n",
              "25%    ...   228.000000   220.000000   223.800000   224.675000   224.695000   \n",
              "50%    ...   521.950000   507.300000   514.050000   514.200000   515.150000   \n",
              "75%    ...   925.975000   891.325000   907.300000   909.150000   910.790000   \n",
              "max    ...  2043.050000  2002.600000  2022.550000  2023.350000  2020.310000   \n",
              "\n",
              "           Volume_y    Turnover_y       Trades_y  Deliverable Volume_y  \\\n",
              "count  5.163000e+03  5.163000e+03    2313.000000          4.654000e+03   \n",
              "mean   4.081507e+06  2.454980e+14  113458.587981          1.856591e+06   \n",
              "std    7.593684e+06  3.674935e+14   91942.682909          3.172722e+06   \n",
              "min    2.850000e+03  8.275250e+09    2698.000000          5.809000e+03   \n",
              "25%    2.681605e+05  5.083152e+12   60635.000000          2.451685e+05   \n",
              "50%    1.547763e+06  1.578281e+14   88947.000000          7.321515e+05   \n",
              "75%    4.985988e+06  3.272911e+14  134676.000000          2.390289e+06   \n",
              "max    1.205419e+08  7.179550e+15  990737.000000          9.490116e+07   \n",
              "\n",
              "       %Deliverble_y  \n",
              "count    4654.000000  \n",
              "mean        0.471829  \n",
              "std         0.161319  \n",
              "min         0.075000  \n",
              "25%         0.355700  \n",
              "50%         0.465700  \n",
              "75%         0.578000  \n",
              "max         0.983000  \n",
              "\n",
              "[8 rows x 24 columns]"
            ]
          },
          "execution_count": 245,
          "metadata": {},
          "output_type": "execute_result"
        }
      ],
      "source": [
        "merged_df.describe()"
      ]
    },
    {
      "cell_type": "code",
      "execution_count": null,
      "metadata": {
        "id": "DSQYfpCdSt0-",
        "outputId": "53896bee-6f78-43a7-9cc6-dabd2475034a"
      },
      "outputs": [
        {
          "data": {
            "text/plain": [
              "324.05    7\n",
              "320.05    6\n",
              "391.00    5\n",
              "310.00    5\n",
              "249.65    5\n",
              "391.15    4\n",
              "304.25    4\n",
              "415.00    4\n",
              "314.40    4\n",
              "271.70    4\n",
              "304.80    4\n",
              "325.25    4\n",
              "325.65    4\n",
              "275.15    4\n",
              "330.00    4\n",
              "Name: Close_x, dtype: int64"
            ]
          },
          "execution_count": 246,
          "metadata": {},
          "output_type": "execute_result"
        }
      ],
      "source": [
        "closing=merged_df.Close_x.value_counts().head(15)\n",
        "closing"
      ]
    },
    {
      "cell_type": "code",
      "execution_count": null,
      "metadata": {
        "id": "cSRgFFqnSt0-",
        "outputId": "bbbeca1d-bfc0-4271-ca9b-c4c970263768"
      },
      "outputs": [
        {
          "data": {
            "image/png": "[encoded data removed]",
            "text/plain": [
              "<Figure size 1152x432 with 1 Axes>"
            ]
          },
          "metadata": {
            "needs_background": "light"
          },
          "output_type": "display_data"
        }
      ],
      "source": [
        "plt.figure(figsize=(16,6))\n",
        "sns.barplot(closing.index,closing);"
      ]
    },
    {
      "cell_type": "markdown",
      "metadata": {
        "id": "OkeaRCtSSt0-"
      },
      "source": [
        "We had find top 15 closing amount which has occure many times in the merged_df and plot the bar chart for it. We can see from the graph that 324.05 is closing amount has occured maximun time."
      ]
    },
    {
      "cell_type": "markdown",
      "metadata": {
        "id": "qlnzRXb7St0-"
      },
      "source": [
        "### Lets try to find the relation between Low and High amount of company by ploting line graph."
      ]
    },
    {
      "cell_type": "code",
      "execution_count": null,
      "metadata": {
        "id": "BrZmwKxOSt0_",
        "outputId": "0c244670-74e6-479c-e0c6-c64463cb81d4"
      },
      "outputs": [
        {
          "data": {
            "image/png": "[encoded data removed]",
            "text/plain": [
              "<Figure size 864x432 with 1 Axes>"
            ]
          },
          "metadata": {
            "needs_background": "light"
          },
          "output_type": "display_data"
        }
      ],
      "source": [
        "plt.figure(figsize=(12,6))\n",
        "plt.title(\"Low and High amount of ASIANPAINTS\")\n",
        "plt.plot(sample_df['Low_x'],sample_df['Date'], marker='o');\n",
        "plt.plot(sample_df['High_x'],sample_df['Date'],marker='x',color='red');\n",
        "plt.legend(['LOW AMOUNT','HIGH AMOUNT']);\n",
        "\n"
      ]
    },
    {
      "cell_type": "markdown",
      "metadata": {
        "id": "eYHx0qGfSt0_"
      },
      "source": [
        "#### Selected some random 15 sample from the survey and plot the graph between low and high of the merged data to compare the amount of low and high. We can see that the low and high amount of the data is approx. same."
      ]
    },
    {
      "cell_type": "markdown",
      "metadata": {
        "id": "kBRvIYlbSt0_"
      },
      "source": [
        "### Lets try to read pattern of Volumn by ploting histogram."
      ]
    },
    {
      "cell_type": "code",
      "execution_count": null,
      "metadata": {
        "id": "AhGKOMynSt0_",
        "outputId": "c8abe714-ead4-4f66-a39c-8dcb37850c66"
      },
      "outputs": [
        {
          "data": {
            "image/png": "[encoded data removed]",
            "text/plain": [
              "<Figure size 648x360 with 1 Axes>"
            ]
          },
          "metadata": {
            "needs_background": "light"
          },
          "output_type": "display_data"
        }
      ],
      "source": [
        "plt.hist(sample_df['Volume_y'], bins=5, color=\"Purple\");"
      ]
    },
    {
      "cell_type": "markdown",
      "metadata": {
        "id": "hkAfhv_gSt0_"
      },
      "source": [
        "#### We can see that the bin 0.0 to 0.2 has maximun number of volumns."
      ]
    },
    {
      "cell_type": "markdown",
      "metadata": {
        "id": "3ah09khGSt1A"
      },
      "source": [
        "#### Lets see the relation between closing amount of ASIANPAINTS and AXIS BANK by plotting scatter graph."
      ]
    },
    {
      "cell_type": "code",
      "execution_count": null,
      "metadata": {
        "id": "Ra99uEpBSt1A",
        "outputId": "377226bb-6c9e-4cb6-ea49-cebd2147d9f5"
      },
      "outputs": [
        {
          "data": {
            "image/png": "[encoded data removed]",
            "text/plain": [
              "<Figure size 648x360 with 1 Axes>"
            ]
          },
          "metadata": {
            "needs_background": "light"
          },
          "output_type": "display_data"
        }
      ],
      "source": [
        "sns.scatterplot(sample_df['Last_x'],sample_df['Last_y'],hue=sample_df['Last_y'],s=100);\n",
        "plt.xlabel('ASIANPAINTS CLOSING');\n",
        "plt.ylabel('AXIS BANK CLOSING');"
      ]
    },
    {
      "cell_type": "markdown",
      "metadata": {
        "id": "4lNsj6I5St1A"
      },
      "source": [
        "#### We can see the there is maximun closing amount between range (0,1500) . There is less closing amount greater than 1500."
      ]
    },
    {
      "cell_type": "markdown",
      "metadata": {
        "id": "2BOwV0n1St1A"
      },
      "source": [
        "### Lets compare the turnover of the company to see how much they are making money"
      ]
    },
    {
      "cell_type": "code",
      "execution_count": null,
      "metadata": {
        "id": "UezcVDkuSt1A",
        "outputId": "e40e0f74-d751-4adb-8f59-d4ae0bdf641e"
      },
      "outputs": [
        {
          "data": {
            "image/png": "[encoded data removed]",
            "text/plain": [
              "<Figure size 648x360 with 1 Axes>"
            ]
          },
          "metadata": {
            "needs_background": "light"
          },
          "output_type": "display_data"
        }
      ],
      "source": [
        "plt.plot(sample_df['Turnover_x'],marker='o',ls='-',color='red');\n",
        "plt.plot(sample_df['Turnover_y'],marker='s',color='orange');\n",
        "plt.legend(['ASIANPAINTS','AXIS BANK']);"
      ]
    },
    {
      "cell_type": "markdown",
      "metadata": {
        "id": "hEhUdWPhSt1B"
      },
      "source": [
        "#### From above grap we can make out the turnover of Axis bank is higher that Asianpaints. Used plt.legend for ploting lengends here so that we can make out which line is for which company."
      ]
    },
    {
      "cell_type": "markdown",
      "metadata": {
        "id": "-IKEv5OVSt1B"
      },
      "source": [
        "Let us save and upload our work to Jovian before continuing"
      ]
    },
    {
      "cell_type": "code",
      "execution_count": null,
      "metadata": {
        "id": "U2kqGzhQSt1B"
      },
      "outputs": [],
      "source": [
        "import jovian"
      ]
    },
    {
      "cell_type": "code",
      "execution_count": null,
      "metadata": {
        "id": "ft5epXKzSt1B",
        "outputId": "311d9c73-18c9-430c-8039-f5d7c2baf742"
      },
      "outputs": [
        {
          "data": {
            "application/javascript": [
              "window.require && require([\"base/js/namespace\"],function(Jupyter){Jupyter.notebook.save_checkpoint()})"
            ],
            "text/plain": [
              "<IPython.core.display.Javascript object>"
            ]
          },
          "metadata": {},
          "output_type": "display_data"
        },
        {
          "name": "stdout",
          "output_type": "stream",
          "text": [
            "[jovian] Attempting to save notebook..\u001b[0m\n",
            "[jovian] Updating notebook \"nidhiscity/nifty50-project\" on https://jovian.ml/\u001b[0m\n",
            "[jovian] Uploading notebook..\u001b[0m\n",
            "[jovian] Capturing environment..\u001b[0m\n",
            "[jovian] Committed successfully! https://jovian.ml/nidhiscity/nifty50-project\u001b[0m\n"
          ]
        },
        {
          "data": {
            "text/plain": [
              "'https://jovian.ml/nidhiscity/nifty50-project'"
            ]
          },
          "execution_count": 258,
          "metadata": {},
          "output_type": "execute_result"
        }
      ],
      "source": [
        "jovian.commit()"
      ]
    },
    {
      "cell_type": "markdown",
      "metadata": {
        "id": "tAfUMDCRSt1C"
      },
      "source": [
        "## Asking and Answering Questions\n",
        "\n",
        "- Find highest 10 Turnover amount of ASIANPAINTS.\n",
        "- find highest 10 Tunover amount of AXIS BANK.\n",
        "- Displaying  these data of turnover of two companies on  HeatMap and Line Marker.\n",
        "- Compare Opening and Closing amount of the AsianPaints.\n",
        "- Plot it on graph.\n",
        "- Compare High and Low anount of Axis Bank.\n",
        "- Plot it on graph.\n",
        "\n",
        "\n"
      ]
    },
    {
      "cell_type": "markdown",
      "metadata": {
        "id": "WeH7vhQMSt1C"
      },
      "source": [
        "### Lets try to find out 10 highest  turnover occured in dataset of ASIANPAINTS."
      ]
    },
    {
      "cell_type": "code",
      "execution_count": null,
      "metadata": {
        "id": "ZzYwoRSOSt1C",
        "outputId": "2eae25b6-45b3-4d1b-e459-0b6ad6c411ae"
      },
      "outputs": [
        {
          "data": {
            "text/html": [
              "<div>\n",
              "<style scoped>\n",
              "    .dataframe tbody tr th:only-of-type {\n",
              "        vertical-align: middle;\n",
              "    }\n",
              "\n",
              "    .dataframe tbody tr th {\n",
              "        vertical-align: top;\n",
              "    }\n",
              "\n",
              "    .dataframe thead th {\n",
              "        text-align: right;\n",
              "    }\n",
              "</style>\n",
              "<table border=\"1\" class=\"dataframe\">\n",
              "  <thead>\n",
              "    <tr style=\"text-align: right;\">\n",
              "      <th></th>\n",
              "      <th>Turnover_x</th>\n",
              "    </tr>\n",
              "  </thead>\n",
              "  <tbody>\n",
              "    <tr>\n",
              "      <th>5092</th>\n",
              "      <td>2.041398e+15</td>\n",
              "    </tr>\n",
              "    <tr>\n",
              "      <th>5024</th>\n",
              "      <td>1.152156e+15</td>\n",
              "    </tr>\n",
              "    <tr>\n",
              "      <th>5115</th>\n",
              "      <td>1.139284e+15</td>\n",
              "    </tr>\n",
              "    <tr>\n",
              "      <th>5134</th>\n",
              "      <td>1.100226e+15</td>\n",
              "    </tr>\n",
              "    <tr>\n",
              "      <th>4868</th>\n",
              "      <td>1.075676e+15</td>\n",
              "    </tr>\n",
              "    <tr>\n",
              "      <th>5148</th>\n",
              "      <td>1.029704e+15</td>\n",
              "    </tr>\n",
              "    <tr>\n",
              "      <th>5057</th>\n",
              "      <td>9.492265e+14</td>\n",
              "    </tr>\n",
              "    <tr>\n",
              "      <th>4682</th>\n",
              "      <td>9.416445e+14</td>\n",
              "    </tr>\n",
              "    <tr>\n",
              "      <th>5124</th>\n",
              "      <td>9.217301e+14</td>\n",
              "    </tr>\n",
              "    <tr>\n",
              "      <th>5060</th>\n",
              "      <td>9.011042e+14</td>\n",
              "    </tr>\n",
              "  </tbody>\n",
              "</table>\n",
              "</div>"
            ],
            "text/plain": [
              "        Turnover_x\n",
              "5092  2.041398e+15\n",
              "5024  1.152156e+15\n",
              "5115  1.139284e+15\n",
              "5134  1.100226e+15\n",
              "4868  1.075676e+15\n",
              "5148  1.029704e+15\n",
              "5057  9.492265e+14\n",
              "4682  9.416445e+14\n",
              "5124  9.217301e+14\n",
              "5060  9.011042e+14"
            ]
          },
          "execution_count": 128,
          "metadata": {},
          "output_type": "execute_result"
        }
      ],
      "source": [
        "Highest_x=merged_df.sort_values('Turnover_x', ascending=False).head(10)\n",
        "X=Highest_x[['Turnover_x']]\n",
        "X"
      ]
    },
    {
      "cell_type": "markdown",
      "metadata": {
        "id": "ie6hNQhCSt1C"
      },
      "source": [
        "### Lets try to 10 Highest Turnover had occured in Axis Bank."
      ]
    },
    {
      "cell_type": "code",
      "execution_count": null,
      "metadata": {
        "id": "n9iRP_xfSt1C",
        "outputId": "eeff328f-6051-4a2b-cbed-5edd06422edb"
      },
      "outputs": [
        {
          "data": {
            "text/html": [
              "<div>\n",
              "<style scoped>\n",
              "    .dataframe tbody tr th:only-of-type {\n",
              "        vertical-align: middle;\n",
              "    }\n",
              "\n",
              "    .dataframe tbody tr th {\n",
              "        vertical-align: top;\n",
              "    }\n",
              "\n",
              "    .dataframe thead th {\n",
              "        text-align: right;\n",
              "    }\n",
              "</style>\n",
              "<table border=\"1\" class=\"dataframe\">\n",
              "  <thead>\n",
              "    <tr style=\"text-align: right;\">\n",
              "      <th></th>\n",
              "      <th>Turnover_y</th>\n",
              "    </tr>\n",
              "  </thead>\n",
              "  <tbody>\n",
              "    <tr>\n",
              "      <th>4152</th>\n",
              "      <td>7.179550e+15</td>\n",
              "    </tr>\n",
              "    <tr>\n",
              "      <th>5112</th>\n",
              "      <td>4.223716e+15</td>\n",
              "    </tr>\n",
              "    <tr>\n",
              "      <th>4873</th>\n",
              "      <td>3.788183e+15</td>\n",
              "    </tr>\n",
              "    <tr>\n",
              "      <th>5086</th>\n",
              "      <td>3.654066e+15</td>\n",
              "    </tr>\n",
              "    <tr>\n",
              "      <th>4913</th>\n",
              "      <td>3.361140e+15</td>\n",
              "    </tr>\n",
              "    <tr>\n",
              "      <th>4750</th>\n",
              "      <td>3.249514e+15</td>\n",
              "    </tr>\n",
              "    <tr>\n",
              "      <th>4028</th>\n",
              "      <td>3.121036e+15</td>\n",
              "    </tr>\n",
              "    <tr>\n",
              "      <th>4562</th>\n",
              "      <td>3.074872e+15</td>\n",
              "    </tr>\n",
              "    <tr>\n",
              "      <th>5139</th>\n",
              "      <td>2.970240e+15</td>\n",
              "    </tr>\n",
              "    <tr>\n",
              "      <th>5073</th>\n",
              "      <td>2.891632e+15</td>\n",
              "    </tr>\n",
              "  </tbody>\n",
              "</table>\n",
              "</div>"
            ],
            "text/plain": [
              "        Turnover_y\n",
              "4152  7.179550e+15\n",
              "5112  4.223716e+15\n",
              "4873  3.788183e+15\n",
              "5086  3.654066e+15\n",
              "4913  3.361140e+15\n",
              "4750  3.249514e+15\n",
              "4028  3.121036e+15\n",
              "4562  3.074872e+15\n",
              "5139  2.970240e+15\n",
              "5073  2.891632e+15"
            ]
          },
          "execution_count": 130,
          "metadata": {},
          "output_type": "execute_result"
        }
      ],
      "source": [
        "Highest_y=merged_df.sort_values('Turnover_y', ascending=False).head(10)\n",
        "Y=Highest_y[['Turnover_y']]\n",
        "Y"
      ]
    },
    {
      "cell_type": "markdown",
      "metadata": {
        "id": "meZ-LBggSt1D"
      },
      "source": [
        "### We have found out the highest 5 Turnover for the both company and lets try to plot these details on the map and compare."
      ]
    },
    {
      "cell_type": "markdown",
      "metadata": {
        "id": "9Ky8Uzu_St1D"
      },
      "source": [
        "#### Ploting Highest 10 Turnover amount of two compaines on the map."
      ]
    },
    {
      "cell_type": "code",
      "execution_count": null,
      "metadata": {
        "id": "zjjpPNXvSt1D",
        "outputId": "c584ac42-4ef6-4130-96e4-5c1727af5d1f"
      },
      "outputs": [
        {
          "data": {
            "text/plain": [
              "<matplotlib.legend.Legend at 0x7f8ae9c12df0>"
            ]
          },
          "execution_count": 135,
          "metadata": {},
          "output_type": "execute_result"
        },
        {
          "data": {
            "image/png": "[encoded data removed]",
            "text/plain": [
              "<Figure size 648x360 with 1 Axes>"
            ]
          },
          "metadata": {
            "needs_background": "light"
          },
          "output_type": "display_data"
        }
      ],
      "source": [
        "plt.plot(X,marker='o')\n",
        "plt.plot(Y,marker='s')\n",
        "plt.legend(['ASIANPAINTS','AXIS BANK'])"
      ]
    },
    {
      "cell_type": "markdown",
      "metadata": {
        "id": "mzoRpklCSt1D"
      },
      "source": [
        "#### We can find out from the above chart that the Axis Banks's turnover is greater than Asian Paints."
      ]
    },
    {
      "cell_type": "code",
      "execution_count": null,
      "metadata": {
        "id": "XJ36uWwYSt1D",
        "outputId": "94f2e0e4-c2a4-4cec-889f-10bdd8c3477c"
      },
      "outputs": [
        {
          "data": {
            "image/png": "[encoded data removed]",
            "text/plain": [
              "<Figure size 648x360 with 2 Axes>"
            ]
          },
          "metadata": {
            "needs_background": "light"
          },
          "output_type": "display_data"
        }
      ],
      "source": [
        "sns.heatmap(compare_df,annot=True, cmap='Oranges');"
      ]
    },
    {
      "cell_type": "markdown",
      "metadata": {
        "id": "FG1nicigSt1D"
      },
      "source": [
        "### We can find out from above two maps that Axis Banks is doing well."
      ]
    },
    {
      "cell_type": "markdown",
      "metadata": {
        "id": "mZlr9ueKSt1E"
      },
      "source": [
        "### Comparing the Opening amount and Closing amount of AsianPainsts."
      ]
    },
    {
      "cell_type": "code",
      "execution_count": null,
      "metadata": {
        "id": "jr0Bv_atSt1E",
        "outputId": "17b93df5-bf53-47e8-85a9-b2e172150c32"
      },
      "outputs": [
        {
          "data": {
            "text/html": [
              "<div>\n",
              "<style scoped>\n",
              "    .dataframe tbody tr th:only-of-type {\n",
              "        vertical-align: middle;\n",
              "    }\n",
              "\n",
              "    .dataframe tbody tr th {\n",
              "        vertical-align: top;\n",
              "    }\n",
              "\n",
              "    .dataframe thead th {\n",
              "        text-align: right;\n",
              "    }\n",
              "</style>\n",
              "<table border=\"1\" class=\"dataframe\">\n",
              "  <thead>\n",
              "    <tr style=\"text-align: right;\">\n",
              "      <th></th>\n",
              "      <th>Open_x</th>\n",
              "      <th>Close_x</th>\n",
              "    </tr>\n",
              "  </thead>\n",
              "  <tbody>\n",
              "    <tr>\n",
              "      <th>2548</th>\n",
              "      <td>2000.95</td>\n",
              "      <td>1994.40</td>\n",
              "    </tr>\n",
              "    <tr>\n",
              "      <th>3306</th>\n",
              "      <td>4880.00</td>\n",
              "      <td>4903.25</td>\n",
              "    </tr>\n",
              "    <tr>\n",
              "      <th>1013</th>\n",
              "      <td>345.00</td>\n",
              "      <td>343.25</td>\n",
              "    </tr>\n",
              "    <tr>\n",
              "      <th>2175</th>\n",
              "      <td>1220.00</td>\n",
              "      <td>1219.35</td>\n",
              "    </tr>\n",
              "    <tr>\n",
              "      <th>806</th>\n",
              "      <td>344.90</td>\n",
              "      <td>341.85</td>\n",
              "    </tr>\n",
              "    <tr>\n",
              "      <th>4768</th>\n",
              "      <td>1399.95</td>\n",
              "      <td>1398.25</td>\n",
              "    </tr>\n",
              "    <tr>\n",
              "      <th>3111</th>\n",
              "      <td>3890.00</td>\n",
              "      <td>3886.15</td>\n",
              "    </tr>\n",
              "    <tr>\n",
              "      <th>1396</th>\n",
              "      <td>440.00</td>\n",
              "      <td>458.55</td>\n",
              "    </tr>\n",
              "    <tr>\n",
              "      <th>107</th>\n",
              "      <td>424.90</td>\n",
              "      <td>415.35</td>\n",
              "    </tr>\n",
              "    <tr>\n",
              "      <th>446</th>\n",
              "      <td>270.90</td>\n",
              "      <td>263.50</td>\n",
              "    </tr>\n",
              "    <tr>\n",
              "      <th>3106</th>\n",
              "      <td>3830.30</td>\n",
              "      <td>3825.30</td>\n",
              "    </tr>\n",
              "    <tr>\n",
              "      <th>3680</th>\n",
              "      <td>629.00</td>\n",
              "      <td>625.50</td>\n",
              "    </tr>\n",
              "    <tr>\n",
              "      <th>4593</th>\n",
              "      <td>1278.55</td>\n",
              "      <td>1287.70</td>\n",
              "    </tr>\n",
              "    <tr>\n",
              "      <th>4251</th>\n",
              "      <td>963.50</td>\n",
              "      <td>973.45</td>\n",
              "    </tr>\n",
              "    <tr>\n",
              "      <th>1294</th>\n",
              "      <td>353.20</td>\n",
              "      <td>355.55</td>\n",
              "    </tr>\n",
              "  </tbody>\n",
              "</table>\n",
              "</div>"
            ],
            "text/plain": [
              "       Open_x  Close_x\n",
              "2548  2000.95  1994.40\n",
              "3306  4880.00  4903.25\n",
              "1013   345.00   343.25\n",
              "2175  1220.00  1219.35\n",
              "806    344.90   341.85\n",
              "4768  1399.95  1398.25\n",
              "3111  3890.00  3886.15\n",
              "1396   440.00   458.55\n",
              "107    424.90   415.35\n",
              "446    270.90   263.50\n",
              "3106  3830.30  3825.30\n",
              "3680   629.00   625.50\n",
              "4593  1278.55  1287.70\n",
              "4251   963.50   973.45\n",
              "1294   353.20   355.55"
            ]
          },
          "execution_count": 172,
          "metadata": {},
          "output_type": "execute_result"
        }
      ],
      "source": [
        "diff_df=sample_df[['Open_x','Close_x']]\n",
        "diff_df\n"
      ]
    },
    {
      "cell_type": "code",
      "execution_count": null,
      "metadata": {
        "id": "oCma4KHqSt1E",
        "outputId": "9cd93850-c353-4157-db30-74595f710ffc"
      },
      "outputs": [
        {
          "data": {
            "text/plain": [
              "2548     6.55\n",
              "3306   -23.25\n",
              "1013     1.75\n",
              "2175     0.65\n",
              "806      3.05\n",
              "4768     1.70\n",
              "3111     3.85\n",
              "1396   -18.55\n",
              "107      9.55\n",
              "446      7.40\n",
              "3106     5.00\n",
              "3680     3.50\n",
              "4593    -9.15\n",
              "4251    -9.95\n",
              "1294    -2.35\n",
              "dtype: float64"
            ]
          },
          "execution_count": 173,
          "metadata": {},
          "output_type": "execute_result"
        }
      ],
      "source": [
        "diff_rate = diff_df.Open_x - diff_df.Close_x\n",
        "diff_rate"
      ]
    },
    {
      "cell_type": "code",
      "execution_count": null,
      "metadata": {
        "id": "MpmeIUtDSt1G",
        "outputId": "08500474-025d-46c6-f1a1-89ff089b93bf"
      },
      "outputs": [
        {
          "data": {
            "image/png": "[encoded data removed]",
            "text/plain": [
              "<Figure size 648x360 with 1 Axes>"
            ]
          },
          "metadata": {
            "needs_background": "light"
          },
          "output_type": "display_data"
        }
      ],
      "source": [
        "plt.plot(diff_rate, marker='s',ls='dashed');"
      ]
    },
    {
      "cell_type": "markdown",
      "metadata": {
        "id": "fpW-yQF0St1I"
      },
      "source": [
        "### We can see that there is not much differnece between the opening and the closing amount of the Asian Piants."
      ]
    },
    {
      "cell_type": "markdown",
      "metadata": {
        "id": "ymmkdyq8St1I"
      },
      "source": [
        "#### Lets Compare the Low and High amount of the Axis Banks."
      ]
    },
    {
      "cell_type": "code",
      "execution_count": null,
      "metadata": {
        "id": "w_FIHruuSt1I",
        "outputId": "5304f6cb-8346-4744-8cc5-79b4cdad81dc"
      },
      "outputs": [
        {
          "data": {
            "text/html": [
              "<div>\n",
              "<style scoped>\n",
              "    .dataframe tbody tr th:only-of-type {\n",
              "        vertical-align: middle;\n",
              "    }\n",
              "\n",
              "    .dataframe tbody tr th {\n",
              "        vertical-align: top;\n",
              "    }\n",
              "\n",
              "    .dataframe thead th {\n",
              "        text-align: right;\n",
              "    }\n",
              "</style>\n",
              "<table border=\"1\" class=\"dataframe\">\n",
              "  <thead>\n",
              "    <tr style=\"text-align: right;\">\n",
              "      <th></th>\n",
              "      <th>High_y</th>\n",
              "      <th>Low_y</th>\n",
              "    </tr>\n",
              "  </thead>\n",
              "  <tbody>\n",
              "    <tr>\n",
              "      <th>4693</th>\n",
              "      <td>612.90</td>\n",
              "      <td>604.65</td>\n",
              "    </tr>\n",
              "    <tr>\n",
              "      <th>1786</th>\n",
              "      <td>553.00</td>\n",
              "      <td>498.60</td>\n",
              "    </tr>\n",
              "    <tr>\n",
              "      <th>709</th>\n",
              "      <td>36.60</td>\n",
              "      <td>35.85</td>\n",
              "    </tr>\n",
              "    <tr>\n",
              "      <th>1943</th>\n",
              "      <td>775.00</td>\n",
              "      <td>752.65</td>\n",
              "    </tr>\n",
              "    <tr>\n",
              "      <th>3437</th>\n",
              "      <td>1088.90</td>\n",
              "      <td>1044.00</td>\n",
              "    </tr>\n",
              "    <tr>\n",
              "      <th>4631</th>\n",
              "      <td>578.55</td>\n",
              "      <td>545.75</td>\n",
              "    </tr>\n",
              "    <tr>\n",
              "      <th>2433</th>\n",
              "      <td>929.70</td>\n",
              "      <td>916.00</td>\n",
              "    </tr>\n",
              "    <tr>\n",
              "      <th>4483</th>\n",
              "      <td>569.80</td>\n",
              "      <td>560.50</td>\n",
              "    </tr>\n",
              "    <tr>\n",
              "      <th>681</th>\n",
              "      <td>35.50</td>\n",
              "      <td>34.05</td>\n",
              "    </tr>\n",
              "    <tr>\n",
              "      <th>2060</th>\n",
              "      <td>841.00</td>\n",
              "      <td>778.50</td>\n",
              "    </tr>\n",
              "    <tr>\n",
              "      <th>2776</th>\n",
              "      <td>1229.70</td>\n",
              "      <td>1163.15</td>\n",
              "    </tr>\n",
              "    <tr>\n",
              "      <th>3799</th>\n",
              "      <td>551.25</td>\n",
              "      <td>526.10</td>\n",
              "    </tr>\n",
              "    <tr>\n",
              "      <th>1763</th>\n",
              "      <td>475.00</td>\n",
              "      <td>460.05</td>\n",
              "    </tr>\n",
              "    <tr>\n",
              "      <th>1033</th>\n",
              "      <td>153.90</td>\n",
              "      <td>150.05</td>\n",
              "    </tr>\n",
              "    <tr>\n",
              "      <th>121</th>\n",
              "      <td>33.40</td>\n",
              "      <td>32.50</td>\n",
              "    </tr>\n",
              "  </tbody>\n",
              "</table>\n",
              "</div>"
            ],
            "text/plain": [
              "       High_y    Low_y\n",
              "4693   612.90   604.65\n",
              "1786   553.00   498.60\n",
              "709     36.60    35.85\n",
              "1943   775.00   752.65\n",
              "3437  1088.90  1044.00\n",
              "4631   578.55   545.75\n",
              "2433   929.70   916.00\n",
              "4483   569.80   560.50\n",
              "681     35.50    34.05\n",
              "2060   841.00   778.50\n",
              "2776  1229.70  1163.15\n",
              "3799   551.25   526.10\n",
              "1763   475.00   460.05\n",
              "1033   153.90   150.05\n",
              "121     33.40    32.50"
            ]
          },
          "execution_count": 260,
          "metadata": {},
          "output_type": "execute_result"
        }
      ],
      "source": [
        "diff1_df=sample_df[['High_y','Low_y']]\n",
        "diff1_df"
      ]
    },
    {
      "cell_type": "code",
      "execution_count": null,
      "metadata": {
        "id": "zTRdQ86xSt1I",
        "outputId": "bf61bf83-68d4-470f-a2c1-ef517bb03432"
      },
      "outputs": [
        {
          "data": {
            "text/plain": [
              "4693     8.25\n",
              "1786    54.40\n",
              "709      0.75\n",
              "1943    22.35\n",
              "3437    44.90\n",
              "4631    32.80\n",
              "2433    13.70\n",
              "4483     9.30\n",
              "681      1.45\n",
              "2060    62.50\n",
              "2776    66.55\n",
              "3799    25.15\n",
              "1763    14.95\n",
              "1033     3.85\n",
              "121      0.90\n",
              "dtype: float64"
            ]
          },
          "execution_count": 261,
          "metadata": {},
          "output_type": "execute_result"
        }
      ],
      "source": [
        "diff1_rate = diff1_df.High_y - diff1_df.Low_y\n",
        "diff1_rate"
      ]
    },
    {
      "cell_type": "code",
      "execution_count": null,
      "metadata": {
        "id": "3Qdh-DgwSt1I",
        "outputId": "92629a07-9773-40e5-f4c8-0d5002e825c0"
      },
      "outputs": [
        {
          "data": {
            "image/png": "[encoded data removed]",
            "text/plain": [
              "<Figure size 648x360 with 1 Axes>"
            ]
          },
          "metadata": {
            "needs_background": "light"
          },
          "output_type": "display_data"
        }
      ],
      "source": [
        "plt.plot(diff1_rate, marker='s',ls='dashdot', color=\"green\");"
      ]
    },
    {
      "cell_type": "markdown",
      "metadata": {
        "id": "VvIXKtW9St1I"
      },
      "source": [
        "We can see that there ample amount of diffenrence between the high and low amount of AXIS BANK."
      ]
    },
    {
      "cell_type": "markdown",
      "metadata": {
        "id": "0CeDJodDSt1J"
      },
      "source": [
        "Let us save and upload our work to Jovian before continuing."
      ]
    },
    {
      "cell_type": "code",
      "execution_count": null,
      "metadata": {
        "id": "YkSZSu5kSt1J"
      },
      "outputs": [],
      "source": [
        "import jovian"
      ]
    },
    {
      "cell_type": "code",
      "execution_count": null,
      "metadata": {
        "id": "lwT9qNgESt1J",
        "outputId": "7a787176-9d46-4e14-fb35-bf0bc160de4b"
      },
      "outputs": [
        {
          "data": {
            "application/javascript": [
              "window.require && require([\"base/js/namespace\"],function(Jupyter){Jupyter.notebook.save_checkpoint()})"
            ],
            "text/plain": [
              "<IPython.core.display.Javascript object>"
            ]
          },
          "metadata": {},
          "output_type": "display_data"
        },
        {
          "name": "stdout",
          "output_type": "stream",
          "text": [
            "[jovian] Attempting to save notebook..\u001b[0m\n",
            "[jovian] Updating notebook \"nidhiscity/nifty50-project\" on https://jovian.ml/\u001b[0m\n",
            "[jovian] Uploading notebook..\u001b[0m\n",
            "[jovian] Capturing environment..\u001b[0m\n",
            "[jovian] Committed successfully! https://jovian.ml/nidhiscity/nifty50-project\u001b[0m\n"
          ]
        },
        {
          "data": {
            "text/plain": [
              "'https://jovian.ml/nidhiscity/nifty50-project'"
            ]
          },
          "execution_count": 264,
          "metadata": {},
          "output_type": "execute_result"
        }
      ],
      "source": [
        "jovian.commit()"
      ]
    },
    {
      "cell_type": "markdown",
      "metadata": {
        "id": "_3eU6j0dSt1J"
      },
      "source": [
        "## Inferences and Conclusion\n",
        "\n",
        "### We can make out from the above analysis that the AXIS BANK are making good amount of money above ASIANPAINTS in terms of turnover and there is alot of fluctuation between the opening amount and closing amount of the companies."
      ]
    },
    {
      "cell_type": "code",
      "execution_count": null,
      "metadata": {
        "id": "nqaI_g0DSt1K"
      },
      "outputs": [],
      "source": [
        "import jovian"
      ]
    },
    {
      "cell_type": "code",
      "execution_count": null,
      "metadata": {
        "id": "kC3csRz6St1K",
        "outputId": "a3d52ab3-ee99-4c16-ec1b-765aec839196"
      },
      "outputs": [
        {
          "data": {
            "application/javascript": [
              "window.require && require([\"base/js/namespace\"],function(Jupyter){Jupyter.notebook.save_checkpoint()})"
            ],
            "text/plain": [
              "<IPython.core.display.Javascript object>"
            ]
          },
          "metadata": {},
          "output_type": "display_data"
        },
        {
          "name": "stdout",
          "output_type": "stream",
          "text": [
            "[jovian] Attempting to save notebook..\u001b[0m\n",
            "[jovian] Updating notebook \"nidhiscity/nifty50-project\" on https://jovian.ml/\u001b[0m\n",
            "[jovian] Uploading notebook..\u001b[0m\n",
            "[jovian] Capturing environment..\u001b[0m\n",
            "[jovian] Committed successfully! https://jovian.ml/nidhiscity/nifty50-project\u001b[0m\n"
          ]
        },
        {
          "data": {
            "text/plain": [
              "'https://jovian.ml/nidhiscity/nifty50-project'"
            ]
          },
          "execution_count": 266,
          "metadata": {},
          "output_type": "execute_result"
        }
      ],
      "source": [
        "jovian.commit()"
      ]
    },
    {
      "cell_type": "markdown",
      "metadata": {
        "id": "8JeD4T4HSt1K"
      },
      "source": [
        "## References and Future Work\n",
        "\n",
        "This project can be used in future also for anaylsis the growth of the companies by adding further details of companies into the dataset. And can be found out the overall turnover of them."
      ]
    },
    {
      "cell_type": "markdown",
      "metadata": {
        "id": "5KJcOgzVSt1K"
      },
      "source": [
        "> Submission Instructions (delete this cell)\n",
        ">\n",
        "> - Upload your notebook to your Jovian.ml profile using `jovian.commit`.\n",
        "> - **Make a submission here**: https://jovian.ml/learn/data-analysis-with-python-zero-to-pandas/assignment/course-project\n",
        "> - Share your work on the forum: https://jovian.ml/forum/t/course-project-on-exploratory-data-analysis-discuss-and-share-your-work/11684\n",
        "> - Share your work on social media (Twitter, LinkedIn, Telegram etc.) and tag [@JovianML](https://twitter.com/jovianml)\n",
        ">\n",
        "> (Optional) Write a blog post\n",
        ">\n",
        "> - A blog post is a great way to present and showcase your work.  \n",
        "> - Sign up on [Medium.com](https://medium.com) to write a blog post for your project.\n",
        "> - Copy over the explanations from your Jupyter notebook into your blog post, and [embed code cells & outputs](https://medium.com/jovianml/share-and-embed-jupyter-notebooks-online-with-jovian-ml-df709a03064e)\n",
        "> - Check out the Jovian.ml Medium publication for inspiration: https://medium.com/jovianml\n",
        "\n",
        "\n",
        ""
      ]
    },
    {
      "cell_type": "code",
      "execution_count": null,
      "metadata": {
        "id": "yS50nS3DSt1K"
      },
      "outputs": [],
      "source": [
        "import jovian"
      ]
    },
    {
      "cell_type": "code",
      "execution_count": null,
      "metadata": {
        "scrolled": true,
        "id": "Ou-VcTmeSt1L",
        "outputId": "dc6aa085-796f-4ad5-aa22-1a29380acf40"
      },
      "outputs": [
        {
          "data": {
            "application/javascript": [
              "window.require && require([\"base/js/namespace\"],function(Jupyter){Jupyter.notebook.save_checkpoint()})"
            ],
            "text/plain": [
              "<IPython.core.display.Javascript object>"
            ]
          },
          "metadata": {},
          "output_type": "display_data"
        },
        {
          "name": "stdout",
          "output_type": "stream",
          "text": [
            "[jovian] Attempting to save notebook..\u001b[0m\n",
            "[jovian] Updating notebook \"aakashns/zerotopandas-course-project-starter\" on https://jovian.ml/\u001b[0m\n",
            "[jovian] Uploading notebook..\u001b[0m\n",
            "[jovian] Capturing environment..\u001b[0m\n",
            "[jovian] Committed successfully! https://jovian.ml/aakashns/zerotopandas-course-project-starter\u001b[0m\n"
          ]
        },
        {
          "data": {
            "text/plain": [
              "'https://jovian.ml/aakashns/zerotopandas-course-project-starter'"
            ]
          },
          "execution_count": 35,
          "metadata": {},
          "output_type": "execute_result"
        }
      ],
      "source": [
        "jovian.commit()"
      ]
    },
    {
      "cell_type": "code",
      "execution_count": null,
      "metadata": {
        "id": "_xvSBAB1St1L"
      },
      "outputs": [],
      "source": []
    }
  ],
  "metadata": {
    "kernelspec": {
      "display_name": "Python 3",
      "language": "python",
      "name": "python3"
    },
    "language_info": {
      "codemirror_mode": {
        "name": "ipython",
        "version": 3
      },
      "file_extension": ".py",
      "mimetype": "text/x-python",
      "name": "python",
      "nbconvert_exporter": "python",
      "pygments_lexer": "ipython3",
      "version": "3.8.5"
    },
    "colab": {
      "provenance": [],
      "include_colab_link": true
    }
  },
  "nbformat": 4,
  "nbformat_minor": 0
}